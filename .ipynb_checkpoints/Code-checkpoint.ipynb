{
 "cells": [
  {
   "cell_type": "code",
   "execution_count": 1,
   "metadata": {
    "ExecuteTime": {
     "end_time": "2019-02-28T18:38:39.589724Z",
     "start_time": "2019-02-28T18:38:39.128814Z"
    }
   },
   "outputs": [],
   "source": [
    "# Library Imports\n",
    "import pandas as pd\n",
    "import numpy as np\n",
    "import matplotlib.pyplot as plt\n",
    "\n",
    "%matplotlib inline\n",
    "import time\n",
    "import random\n",
    "\n",
    "pd.options.display.max_rows=999"
   ]
  },
  {
   "cell_type": "markdown",
   "metadata": {},
   "source": [
    "# Import Data"
   ]
  },
  {
   "cell_type": "code",
   "execution_count": 2,
   "metadata": {
    "ExecuteTime": {
     "end_time": "2019-02-28T18:38:41.469531Z",
     "start_time": "2019-02-28T18:38:39.592143Z"
    }
   },
   "outputs": [],
   "source": [
    "# Read the data and align testing file's structure to training file's structure\n",
    "training_data = pd.read_csv('training.csv')\n",
    "testing_data = pd.read_csv('testing.csv')\n",
    "revenue_data = pd.read_csv('revenue.csv')\n",
    "weather_data = pd.read_csv('weather.csv')\n"
   ]
  },
  {
   "cell_type": "markdown",
   "metadata": {},
   "source": [
    "# Merge and Preprocess Data"
   ]
  },
  {
   "cell_type": "code",
   "execution_count": 6,
   "metadata": {
    "ExecuteTime": {
     "end_time": "2019-03-14T19:01:09.976628Z",
     "start_time": "2019-03-14T19:01:09.974460Z"
    }
   },
   "outputs": [],
   "source": [
    "#training_data.head()"
   ]
  },
  {
   "cell_type": "code",
   "execution_count": 7,
   "metadata": {
    "ExecuteTime": {
     "end_time": "2019-03-14T19:01:12.353726Z",
     "start_time": "2019-03-14T19:01:12.351562Z"
    },
    "scrolled": true
   },
   "outputs": [],
   "source": [
    "#testing_data.head()"
   ]
  },
  {
   "cell_type": "code",
   "execution_count": 5,
   "metadata": {
    "ExecuteTime": {
     "end_time": "2019-02-28T18:38:41.598370Z",
     "start_time": "2019-02-28T18:38:41.528739Z"
    }
   },
   "outputs": [],
   "source": [
    "testing_data1 = testing_data.rename({'inspect':'status'},axis=1)\n",
    "testing_data1['status']=\"no_failure\""
   ]
  },
  {
   "cell_type": "code",
   "execution_count": 8,
   "metadata": {
    "ExecuteTime": {
     "end_time": "2019-03-14T19:01:15.684124Z",
     "start_time": "2019-03-14T19:01:15.681967Z"
    }
   },
   "outputs": [],
   "source": [
    "#testing_data1.head()"
   ]
  },
  {
   "cell_type": "code",
   "execution_count": 7,
   "metadata": {
    "ExecuteTime": {
     "end_time": "2019-02-28T18:38:41.641358Z",
     "start_time": "2019-02-28T18:38:41.631271Z"
    }
   },
   "outputs": [
    {
     "data": {
      "text/html": [
       "<div>\n",
       "<style scoped>\n",
       "    .dataframe tbody tr th:only-of-type {\n",
       "        vertical-align: middle;\n",
       "    }\n",
       "\n",
       "    .dataframe tbody tr th {\n",
       "        vertical-align: top;\n",
       "    }\n",
       "\n",
       "    .dataframe thead th {\n",
       "        text-align: right;\n",
       "    }\n",
       "</style>\n",
       "<table border=\"1\" class=\"dataframe\">\n",
       "  <thead>\n",
       "    <tr style=\"text-align: right;\">\n",
       "      <th></th>\n",
       "      <th>site</th>\n",
       "      <th>high_temp</th>\n",
       "      <th>low_temp</th>\n",
       "      <th>wind_speed</th>\n",
       "      <th>precipitation</th>\n",
       "      <th>lightning_prob</th>\n",
       "    </tr>\n",
       "  </thead>\n",
       "  <tbody>\n",
       "    <tr>\n",
       "      <th>0</th>\n",
       "      <td>site_1</td>\n",
       "      <td>63</td>\n",
       "      <td>51</td>\n",
       "      <td>13</td>\n",
       "      <td>False</td>\n",
       "      <td>NaN</td>\n",
       "    </tr>\n",
       "    <tr>\n",
       "      <th>1</th>\n",
       "      <td>site_2</td>\n",
       "      <td>46</td>\n",
       "      <td>27</td>\n",
       "      <td>15</td>\n",
       "      <td>False</td>\n",
       "      <td>NaN</td>\n",
       "    </tr>\n",
       "    <tr>\n",
       "      <th>2</th>\n",
       "      <td>site_3</td>\n",
       "      <td>65</td>\n",
       "      <td>51</td>\n",
       "      <td>15</td>\n",
       "      <td>False</td>\n",
       "      <td>NaN</td>\n",
       "    </tr>\n",
       "    <tr>\n",
       "      <th>3</th>\n",
       "      <td>site_4</td>\n",
       "      <td>40</td>\n",
       "      <td>31</td>\n",
       "      <td>10</td>\n",
       "      <td>False</td>\n",
       "      <td>NaN</td>\n",
       "    </tr>\n",
       "    <tr>\n",
       "      <th>4</th>\n",
       "      <td>site_5</td>\n",
       "      <td>65</td>\n",
       "      <td>56</td>\n",
       "      <td>9</td>\n",
       "      <td>False</td>\n",
       "      <td>NaN</td>\n",
       "    </tr>\n",
       "  </tbody>\n",
       "</table>\n",
       "</div>"
      ],
      "text/plain": [
       "     site  high_temp  low_temp  wind_speed  precipitation lightning_prob\n",
       "0  site_1         63        51          13          False            NaN\n",
       "1  site_2         46        27          15          False            NaN\n",
       "2  site_3         65        51          15          False            NaN\n",
       "3  site_4         40        31          10          False            NaN\n",
       "4  site_5         65        56           9          False            NaN"
      ]
     },
     "execution_count": 7,
     "metadata": {},
     "output_type": "execute_result"
    }
   ],
   "source": [
    "weather_data.head()"
   ]
  },
  {
   "cell_type": "code",
   "execution_count": 8,
   "metadata": {
    "ExecuteTime": {
     "end_time": "2019-02-28T18:38:41.651910Z",
     "start_time": "2019-02-28T18:38:41.643668Z"
    }
   },
   "outputs": [
    {
     "data": {
      "text/html": [
       "<div>\n",
       "<style scoped>\n",
       "    .dataframe tbody tr th:only-of-type {\n",
       "        vertical-align: middle;\n",
       "    }\n",
       "\n",
       "    .dataframe tbody tr th {\n",
       "        vertical-align: top;\n",
       "    }\n",
       "\n",
       "    .dataframe thead th {\n",
       "        text-align: right;\n",
       "    }\n",
       "</style>\n",
       "<table border=\"1\" class=\"dataframe\">\n",
       "  <thead>\n",
       "    <tr style=\"text-align: right;\">\n",
       "      <th></th>\n",
       "      <th>site</th>\n",
       "      <th>revenue</th>\n",
       "    </tr>\n",
       "  </thead>\n",
       "  <tbody>\n",
       "    <tr>\n",
       "      <th>0</th>\n",
       "      <td>site_1</td>\n",
       "      <td>204</td>\n",
       "    </tr>\n",
       "    <tr>\n",
       "      <th>1</th>\n",
       "      <td>site_2</td>\n",
       "      <td>188</td>\n",
       "    </tr>\n",
       "    <tr>\n",
       "      <th>2</th>\n",
       "      <td>site_3</td>\n",
       "      <td>235</td>\n",
       "    </tr>\n",
       "    <tr>\n",
       "      <th>3</th>\n",
       "      <td>site_4</td>\n",
       "      <td>153</td>\n",
       "    </tr>\n",
       "    <tr>\n",
       "      <th>4</th>\n",
       "      <td>site_5</td>\n",
       "      <td>140</td>\n",
       "    </tr>\n",
       "  </tbody>\n",
       "</table>\n",
       "</div>"
      ],
      "text/plain": [
       "     site  revenue\n",
       "0  site_1      204\n",
       "1  site_2      188\n",
       "2  site_3      235\n",
       "3  site_4      153\n",
       "4  site_5      140"
      ]
     },
     "execution_count": 8,
     "metadata": {},
     "output_type": "execute_result"
    }
   ],
   "source": [
    "revenue_data.head()"
   ]
  },
  {
   "cell_type": "code",
   "execution_count": 9,
   "metadata": {
    "ExecuteTime": {
     "end_time": "2019-02-28T18:38:41.656021Z",
     "start_time": "2019-02-28T18:38:41.653613Z"
    }
   },
   "outputs": [],
   "source": [
    "\n",
    "#revenue_data1 = revenue_data\n",
    "#weather_data1 = weather_data"
   ]
  },
  {
   "cell_type": "code",
   "execution_count": 10,
   "metadata": {
    "ExecuteTime": {
     "end_time": "2019-02-28T18:38:41.661445Z",
     "start_time": "2019-02-28T18:38:41.657914Z"
    }
   },
   "outputs": [
    {
     "data": {
      "text/plain": [
       "(11652, 176)"
      ]
     },
     "execution_count": 10,
     "metadata": {},
     "output_type": "execute_result"
    }
   ],
   "source": [
    "training_data.shape"
   ]
  },
  {
   "cell_type": "code",
   "execution_count": 11,
   "metadata": {
    "ExecuteTime": {
     "end_time": "2019-02-28T18:38:41.673685Z",
     "start_time": "2019-02-28T18:38:41.663511Z"
    }
   },
   "outputs": [],
   "source": [
    "training_data1 = training_data.copy()"
   ]
  },
  {
   "cell_type": "code",
   "execution_count": 12,
   "metadata": {
    "ExecuteTime": {
     "end_time": "2019-02-28T18:38:41.683986Z",
     "start_time": "2019-02-28T18:38:41.675595Z"
    }
   },
   "outputs": [
    {
     "data": {
      "text/plain": [
       "no_failure    11450\n",
       "failure         202\n",
       "Name: status, dtype: int64"
      ]
     },
     "execution_count": 12,
     "metadata": {},
     "output_type": "execute_result"
    }
   ],
   "source": [
    "training_data1['status'].value_counts(dropna=False)"
   ]
  },
  {
   "cell_type": "code",
   "execution_count": 13,
   "metadata": {
    "ExecuteTime": {
     "end_time": "2019-02-28T18:38:41.689585Z",
     "start_time": "2019-02-28T18:38:41.685877Z"
    }
   },
   "outputs": [],
   "source": [
    "# Align test data to training data file structure\n",
    "testing_data1['repair_cost']=0"
   ]
  },
  {
   "cell_type": "code",
   "execution_count": 14,
   "metadata": {
    "ExecuteTime": {
     "end_time": "2019-02-28T18:38:41.694504Z",
     "start_time": "2019-02-28T18:38:41.691282Z"
    }
   },
   "outputs": [],
   "source": [
    "weather_data1 = weather_data.copy()"
   ]
  },
  {
   "cell_type": "code",
   "execution_count": 15,
   "metadata": {
    "ExecuteTime": {
     "end_time": "2019-02-28T18:38:41.732195Z",
     "start_time": "2019-02-28T18:38:41.696570Z"
    }
   },
   "outputs": [],
   "source": [
    "# Get ID information of weather to align with sensor data\n",
    "def getID(x):\n",
    "    return x.split('_')[1]\n",
    "weather_data1['site_id']=weather_data1.site.apply(getID)"
   ]
  },
  {
   "cell_type": "code",
   "execution_count": 16,
   "metadata": {
    "ExecuteTime": {
     "end_time": "2019-02-28T18:38:41.747339Z",
     "start_time": "2019-02-28T18:38:41.734172Z"
    }
   },
   "outputs": [
    {
     "data": {
      "text/html": [
       "<div>\n",
       "<style scoped>\n",
       "    .dataframe tbody tr th:only-of-type {\n",
       "        vertical-align: middle;\n",
       "    }\n",
       "\n",
       "    .dataframe tbody tr th {\n",
       "        vertical-align: top;\n",
       "    }\n",
       "\n",
       "    .dataframe thead th {\n",
       "        text-align: right;\n",
       "    }\n",
       "</style>\n",
       "<table border=\"1\" class=\"dataframe\">\n",
       "  <thead>\n",
       "    <tr style=\"text-align: right;\">\n",
       "      <th></th>\n",
       "      <th>high_temp</th>\n",
       "      <th>low_temp</th>\n",
       "      <th>wind_speed</th>\n",
       "      <th>precipitation</th>\n",
       "      <th>lightning_prob</th>\n",
       "      <th>site_id</th>\n",
       "    </tr>\n",
       "  </thead>\n",
       "  <tbody>\n",
       "    <tr>\n",
       "      <th>0</th>\n",
       "      <td>63</td>\n",
       "      <td>51</td>\n",
       "      <td>13</td>\n",
       "      <td>False</td>\n",
       "      <td>NaN</td>\n",
       "      <td>1</td>\n",
       "    </tr>\n",
       "    <tr>\n",
       "      <th>1</th>\n",
       "      <td>46</td>\n",
       "      <td>27</td>\n",
       "      <td>15</td>\n",
       "      <td>False</td>\n",
       "      <td>NaN</td>\n",
       "      <td>2</td>\n",
       "    </tr>\n",
       "    <tr>\n",
       "      <th>2</th>\n",
       "      <td>65</td>\n",
       "      <td>51</td>\n",
       "      <td>15</td>\n",
       "      <td>False</td>\n",
       "      <td>NaN</td>\n",
       "      <td>3</td>\n",
       "    </tr>\n",
       "    <tr>\n",
       "      <th>3</th>\n",
       "      <td>40</td>\n",
       "      <td>31</td>\n",
       "      <td>10</td>\n",
       "      <td>False</td>\n",
       "      <td>NaN</td>\n",
       "      <td>4</td>\n",
       "    </tr>\n",
       "    <tr>\n",
       "      <th>4</th>\n",
       "      <td>65</td>\n",
       "      <td>56</td>\n",
       "      <td>9</td>\n",
       "      <td>False</td>\n",
       "      <td>NaN</td>\n",
       "      <td>5</td>\n",
       "    </tr>\n",
       "  </tbody>\n",
       "</table>\n",
       "</div>"
      ],
      "text/plain": [
       "   high_temp  low_temp  wind_speed  precipitation lightning_prob site_id\n",
       "0         63        51          13          False            NaN       1\n",
       "1         46        27          15          False            NaN       2\n",
       "2         65        51          15          False            NaN       3\n",
       "3         40        31          10          False            NaN       4\n",
       "4         65        56           9          False            NaN       5"
      ]
     },
     "execution_count": 16,
     "metadata": {},
     "output_type": "execute_result"
    }
   ],
   "source": [
    "weather_data1 = weather_data1.drop(['site'],axis = 1)\n",
    "weather_data1.head()"
   ]
  },
  {
   "cell_type": "code",
   "execution_count": 17,
   "metadata": {
    "ExecuteTime": {
     "end_time": "2019-02-28T18:38:41.778280Z",
     "start_time": "2019-02-28T18:38:41.749105Z"
    }
   },
   "outputs": [
    {
     "data": {
      "text/html": [
       "<div>\n",
       "<style scoped>\n",
       "    .dataframe tbody tr th:only-of-type {\n",
       "        vertical-align: middle;\n",
       "    }\n",
       "\n",
       "    .dataframe tbody tr th {\n",
       "        vertical-align: top;\n",
       "    }\n",
       "\n",
       "    .dataframe thead th {\n",
       "        text-align: right;\n",
       "    }\n",
       "</style>\n",
       "<table border=\"1\" class=\"dataframe\">\n",
       "  <thead>\n",
       "    <tr style=\"text-align: right;\">\n",
       "      <th></th>\n",
       "      <th>sensor_1</th>\n",
       "      <th>sensor_2</th>\n",
       "      <th>sensor_3</th>\n",
       "      <th>sensor_4</th>\n",
       "      <th>sensor_5</th>\n",
       "      <th>sensor_6</th>\n",
       "      <th>sensor_7</th>\n",
       "      <th>sensor_8</th>\n",
       "      <th>sensor_9</th>\n",
       "      <th>sensor_10</th>\n",
       "      <th>...</th>\n",
       "      <th>sensor_167</th>\n",
       "      <th>sensor_168</th>\n",
       "      <th>sensor_169</th>\n",
       "      <th>sensor_170</th>\n",
       "      <th>sensor_171</th>\n",
       "      <th>sensor_172</th>\n",
       "      <th>status</th>\n",
       "      <th>id</th>\n",
       "      <th>site</th>\n",
       "      <th>repair_cost</th>\n",
       "    </tr>\n",
       "  </thead>\n",
       "  <tbody>\n",
       "    <tr>\n",
       "      <th>0</th>\n",
       "      <td>0.0</td>\n",
       "      <td>-9.611918e+03</td>\n",
       "      <td>-2.933241e+03</td>\n",
       "      <td>NaN</td>\n",
       "      <td>Off</td>\n",
       "      <td>NaN</td>\n",
       "      <td>-9.041325e+00</td>\n",
       "      <td>-1.765398e+03</td>\n",
       "      <td>0.0</td>\n",
       "      <td>6.516170e+03</td>\n",
       "      <td>...</td>\n",
       "      <td>-0.235600</td>\n",
       "      <td>0.000000e+00</td>\n",
       "      <td>0.000000</td>\n",
       "      <td>0.0</td>\n",
       "      <td>-2385.106339</td>\n",
       "      <td>1.373863e+05</td>\n",
       "      <td>no_failure</td>\n",
       "      <td>1</td>\n",
       "      <td>36</td>\n",
       "      <td>NaN</td>\n",
       "    </tr>\n",
       "    <tr>\n",
       "      <th>1</th>\n",
       "      <td>0.0</td>\n",
       "      <td>-1.485625e+06</td>\n",
       "      <td>9.446258e+07</td>\n",
       "      <td>-16168.112322</td>\n",
       "      <td>Off</td>\n",
       "      <td>292438.605471</td>\n",
       "      <td>NaN</td>\n",
       "      <td>-8.249012e+02</td>\n",
       "      <td>0.0</td>\n",
       "      <td>2.742908e+09</td>\n",
       "      <td>...</td>\n",
       "      <td>665245.071480</td>\n",
       "      <td>-1.055722e+04</td>\n",
       "      <td>0.000000</td>\n",
       "      <td>0.0</td>\n",
       "      <td>0.000000</td>\n",
       "      <td>-2.290514e+05</td>\n",
       "      <td>no_failure</td>\n",
       "      <td>2</td>\n",
       "      <td>144</td>\n",
       "      <td>NaN</td>\n",
       "    </tr>\n",
       "    <tr>\n",
       "      <th>2</th>\n",
       "      <td>0.0</td>\n",
       "      <td>-3.829959e+04</td>\n",
       "      <td>7.816485e+06</td>\n",
       "      <td>NaN</td>\n",
       "      <td>Off</td>\n",
       "      <td>NaN</td>\n",
       "      <td>1.330036e+06</td>\n",
       "      <td>4.445554e+06</td>\n",
       "      <td>0.0</td>\n",
       "      <td>4.097052e+09</td>\n",
       "      <td>...</td>\n",
       "      <td>-1346.261115</td>\n",
       "      <td>-3.011502e+04</td>\n",
       "      <td>-970.129775</td>\n",
       "      <td>0.0</td>\n",
       "      <td>0.000000</td>\n",
       "      <td>-2.941840e+03</td>\n",
       "      <td>no_failure</td>\n",
       "      <td>3</td>\n",
       "      <td>267</td>\n",
       "      <td>NaN</td>\n",
       "    </tr>\n",
       "    <tr>\n",
       "      <th>3</th>\n",
       "      <td>0.0</td>\n",
       "      <td>2.583618e+06</td>\n",
       "      <td>-5.677418e+03</td>\n",
       "      <td>NaN</td>\n",
       "      <td>Off</td>\n",
       "      <td>NaN</td>\n",
       "      <td>NaN</td>\n",
       "      <td>-1.001854e+03</td>\n",
       "      <td>0.0</td>\n",
       "      <td>-1.873686e+04</td>\n",
       "      <td>...</td>\n",
       "      <td>0.000000</td>\n",
       "      <td>-1.224932e+01</td>\n",
       "      <td>0.000000</td>\n",
       "      <td>0.0</td>\n",
       "      <td>235385.978872</td>\n",
       "      <td>6.841415e+05</td>\n",
       "      <td>no_failure</td>\n",
       "      <td>4</td>\n",
       "      <td>133</td>\n",
       "      <td>NaN</td>\n",
       "    </tr>\n",
       "    <tr>\n",
       "      <th>4</th>\n",
       "      <td>0.0</td>\n",
       "      <td>-2.148565e+04</td>\n",
       "      <td>2.360711e+05</td>\n",
       "      <td>NaN</td>\n",
       "      <td>Off</td>\n",
       "      <td>NaN</td>\n",
       "      <td>-8.240733e+00</td>\n",
       "      <td>-5.384500e+03</td>\n",
       "      <td>0.0</td>\n",
       "      <td>-3.244766e+04</td>\n",
       "      <td>...</td>\n",
       "      <td>-9996.138228</td>\n",
       "      <td>1.421501e+07</td>\n",
       "      <td>-0.035251</td>\n",
       "      <td>0.0</td>\n",
       "      <td>0.000000</td>\n",
       "      <td>2.229896e+08</td>\n",
       "      <td>no_failure</td>\n",
       "      <td>5</td>\n",
       "      <td>155</td>\n",
       "      <td>NaN</td>\n",
       "    </tr>\n",
       "  </tbody>\n",
       "</table>\n",
       "<p>5 rows × 176 columns</p>\n",
       "</div>"
      ],
      "text/plain": [
       "   sensor_1      sensor_2      sensor_3      sensor_4 sensor_5       sensor_6  \\\n",
       "0       0.0 -9.611918e+03 -2.933241e+03           NaN      Off            NaN   \n",
       "1       0.0 -1.485625e+06  9.446258e+07 -16168.112322      Off  292438.605471   \n",
       "2       0.0 -3.829959e+04  7.816485e+06           NaN      Off            NaN   \n",
       "3       0.0  2.583618e+06 -5.677418e+03           NaN      Off            NaN   \n",
       "4       0.0 -2.148565e+04  2.360711e+05           NaN      Off            NaN   \n",
       "\n",
       "       sensor_7      sensor_8  sensor_9     sensor_10  ...     sensor_167  \\\n",
       "0 -9.041325e+00 -1.765398e+03       0.0  6.516170e+03  ...      -0.235600   \n",
       "1           NaN -8.249012e+02       0.0  2.742908e+09  ...  665245.071480   \n",
       "2  1.330036e+06  4.445554e+06       0.0  4.097052e+09  ...   -1346.261115   \n",
       "3           NaN -1.001854e+03       0.0 -1.873686e+04  ...       0.000000   \n",
       "4 -8.240733e+00 -5.384500e+03       0.0 -3.244766e+04  ...   -9996.138228   \n",
       "\n",
       "     sensor_168  sensor_169  sensor_170     sensor_171    sensor_172  \\\n",
       "0  0.000000e+00    0.000000         0.0   -2385.106339  1.373863e+05   \n",
       "1 -1.055722e+04    0.000000         0.0       0.000000 -2.290514e+05   \n",
       "2 -3.011502e+04 -970.129775         0.0       0.000000 -2.941840e+03   \n",
       "3 -1.224932e+01    0.000000         0.0  235385.978872  6.841415e+05   \n",
       "4  1.421501e+07   -0.035251         0.0       0.000000  2.229896e+08   \n",
       "\n",
       "       status  id  site  repair_cost  \n",
       "0  no_failure   1    36          NaN  \n",
       "1  no_failure   2   144          NaN  \n",
       "2  no_failure   3   267          NaN  \n",
       "3  no_failure   4   133          NaN  \n",
       "4  no_failure   5   155          NaN  \n",
       "\n",
       "[5 rows x 176 columns]"
      ]
     },
     "execution_count": 17,
     "metadata": {},
     "output_type": "execute_result"
    }
   ],
   "source": [
    "training_data1.head()"
   ]
  },
  {
   "cell_type": "code",
   "execution_count": 18,
   "metadata": {
    "ExecuteTime": {
     "end_time": "2019-02-28T18:38:41.838695Z",
     "start_time": "2019-02-28T18:38:41.783796Z"
    }
   },
   "outputs": [
    {
     "data": {
      "text/html": [
       "<div>\n",
       "<style scoped>\n",
       "    .dataframe tbody tr th:only-of-type {\n",
       "        vertical-align: middle;\n",
       "    }\n",
       "\n",
       "    .dataframe tbody tr th {\n",
       "        vertical-align: top;\n",
       "    }\n",
       "\n",
       "    .dataframe thead th {\n",
       "        text-align: right;\n",
       "    }\n",
       "</style>\n",
       "<table border=\"1\" class=\"dataframe\">\n",
       "  <thead>\n",
       "    <tr style=\"text-align: right;\">\n",
       "      <th></th>\n",
       "      <th>sensor_1</th>\n",
       "      <th>sensor_2</th>\n",
       "      <th>sensor_3</th>\n",
       "      <th>sensor_4</th>\n",
       "      <th>sensor_5</th>\n",
       "      <th>sensor_6</th>\n",
       "      <th>sensor_7</th>\n",
       "      <th>sensor_8</th>\n",
       "      <th>sensor_9</th>\n",
       "      <th>sensor_10</th>\n",
       "      <th>...</th>\n",
       "      <th>sensor_167</th>\n",
       "      <th>sensor_168</th>\n",
       "      <th>sensor_169</th>\n",
       "      <th>sensor_170</th>\n",
       "      <th>sensor_171</th>\n",
       "      <th>sensor_172</th>\n",
       "      <th>status</th>\n",
       "      <th>id</th>\n",
       "      <th>repair_cost</th>\n",
       "      <th>site_id</th>\n",
       "    </tr>\n",
       "  </thead>\n",
       "  <tbody>\n",
       "    <tr>\n",
       "      <th>0</th>\n",
       "      <td>0.0</td>\n",
       "      <td>-9.611918e+03</td>\n",
       "      <td>-2.933241e+03</td>\n",
       "      <td>NaN</td>\n",
       "      <td>Off</td>\n",
       "      <td>NaN</td>\n",
       "      <td>-9.041325e+00</td>\n",
       "      <td>-1.765398e+03</td>\n",
       "      <td>0.0</td>\n",
       "      <td>6.516170e+03</td>\n",
       "      <td>...</td>\n",
       "      <td>-0.235600</td>\n",
       "      <td>0.000000e+00</td>\n",
       "      <td>0.000000</td>\n",
       "      <td>0.0</td>\n",
       "      <td>-2385.106339</td>\n",
       "      <td>1.373863e+05</td>\n",
       "      <td>no_failure</td>\n",
       "      <td>1</td>\n",
       "      <td>NaN</td>\n",
       "      <td>36</td>\n",
       "    </tr>\n",
       "    <tr>\n",
       "      <th>1</th>\n",
       "      <td>0.0</td>\n",
       "      <td>-1.485625e+06</td>\n",
       "      <td>9.446258e+07</td>\n",
       "      <td>-16168.112322</td>\n",
       "      <td>Off</td>\n",
       "      <td>292438.605471</td>\n",
       "      <td>NaN</td>\n",
       "      <td>-8.249012e+02</td>\n",
       "      <td>0.0</td>\n",
       "      <td>2.742908e+09</td>\n",
       "      <td>...</td>\n",
       "      <td>665245.071480</td>\n",
       "      <td>-1.055722e+04</td>\n",
       "      <td>0.000000</td>\n",
       "      <td>0.0</td>\n",
       "      <td>0.000000</td>\n",
       "      <td>-2.290514e+05</td>\n",
       "      <td>no_failure</td>\n",
       "      <td>2</td>\n",
       "      <td>NaN</td>\n",
       "      <td>144</td>\n",
       "    </tr>\n",
       "    <tr>\n",
       "      <th>2</th>\n",
       "      <td>0.0</td>\n",
       "      <td>-3.829959e+04</td>\n",
       "      <td>7.816485e+06</td>\n",
       "      <td>NaN</td>\n",
       "      <td>Off</td>\n",
       "      <td>NaN</td>\n",
       "      <td>1.330036e+06</td>\n",
       "      <td>4.445554e+06</td>\n",
       "      <td>0.0</td>\n",
       "      <td>4.097052e+09</td>\n",
       "      <td>...</td>\n",
       "      <td>-1346.261115</td>\n",
       "      <td>-3.011502e+04</td>\n",
       "      <td>-970.129775</td>\n",
       "      <td>0.0</td>\n",
       "      <td>0.000000</td>\n",
       "      <td>-2.941840e+03</td>\n",
       "      <td>no_failure</td>\n",
       "      <td>3</td>\n",
       "      <td>NaN</td>\n",
       "      <td>267</td>\n",
       "    </tr>\n",
       "    <tr>\n",
       "      <th>3</th>\n",
       "      <td>0.0</td>\n",
       "      <td>2.583618e+06</td>\n",
       "      <td>-5.677418e+03</td>\n",
       "      <td>NaN</td>\n",
       "      <td>Off</td>\n",
       "      <td>NaN</td>\n",
       "      <td>NaN</td>\n",
       "      <td>-1.001854e+03</td>\n",
       "      <td>0.0</td>\n",
       "      <td>-1.873686e+04</td>\n",
       "      <td>...</td>\n",
       "      <td>0.000000</td>\n",
       "      <td>-1.224932e+01</td>\n",
       "      <td>0.000000</td>\n",
       "      <td>0.0</td>\n",
       "      <td>235385.978872</td>\n",
       "      <td>6.841415e+05</td>\n",
       "      <td>no_failure</td>\n",
       "      <td>4</td>\n",
       "      <td>NaN</td>\n",
       "      <td>133</td>\n",
       "    </tr>\n",
       "    <tr>\n",
       "      <th>4</th>\n",
       "      <td>0.0</td>\n",
       "      <td>-2.148565e+04</td>\n",
       "      <td>2.360711e+05</td>\n",
       "      <td>NaN</td>\n",
       "      <td>Off</td>\n",
       "      <td>NaN</td>\n",
       "      <td>-8.240733e+00</td>\n",
       "      <td>-5.384500e+03</td>\n",
       "      <td>0.0</td>\n",
       "      <td>-3.244766e+04</td>\n",
       "      <td>...</td>\n",
       "      <td>-9996.138228</td>\n",
       "      <td>1.421501e+07</td>\n",
       "      <td>-0.035251</td>\n",
       "      <td>0.0</td>\n",
       "      <td>0.000000</td>\n",
       "      <td>2.229896e+08</td>\n",
       "      <td>no_failure</td>\n",
       "      <td>5</td>\n",
       "      <td>NaN</td>\n",
       "      <td>155</td>\n",
       "    </tr>\n",
       "  </tbody>\n",
       "</table>\n",
       "<p>5 rows × 176 columns</p>\n",
       "</div>"
      ],
      "text/plain": [
       "   sensor_1      sensor_2      sensor_3      sensor_4 sensor_5       sensor_6  \\\n",
       "0       0.0 -9.611918e+03 -2.933241e+03           NaN      Off            NaN   \n",
       "1       0.0 -1.485625e+06  9.446258e+07 -16168.112322      Off  292438.605471   \n",
       "2       0.0 -3.829959e+04  7.816485e+06           NaN      Off            NaN   \n",
       "3       0.0  2.583618e+06 -5.677418e+03           NaN      Off            NaN   \n",
       "4       0.0 -2.148565e+04  2.360711e+05           NaN      Off            NaN   \n",
       "\n",
       "       sensor_7      sensor_8  sensor_9     sensor_10  ...     sensor_167  \\\n",
       "0 -9.041325e+00 -1.765398e+03       0.0  6.516170e+03  ...      -0.235600   \n",
       "1           NaN -8.249012e+02       0.0  2.742908e+09  ...  665245.071480   \n",
       "2  1.330036e+06  4.445554e+06       0.0  4.097052e+09  ...   -1346.261115   \n",
       "3           NaN -1.001854e+03       0.0 -1.873686e+04  ...       0.000000   \n",
       "4 -8.240733e+00 -5.384500e+03       0.0 -3.244766e+04  ...   -9996.138228   \n",
       "\n",
       "     sensor_168  sensor_169  sensor_170     sensor_171    sensor_172  \\\n",
       "0  0.000000e+00    0.000000         0.0   -2385.106339  1.373863e+05   \n",
       "1 -1.055722e+04    0.000000         0.0       0.000000 -2.290514e+05   \n",
       "2 -3.011502e+04 -970.129775         0.0       0.000000 -2.941840e+03   \n",
       "3 -1.224932e+01    0.000000         0.0  235385.978872  6.841415e+05   \n",
       "4  1.421501e+07   -0.035251         0.0       0.000000  2.229896e+08   \n",
       "\n",
       "       status  id  repair_cost  site_id  \n",
       "0  no_failure   1          NaN       36  \n",
       "1  no_failure   2          NaN      144  \n",
       "2  no_failure   3          NaN      267  \n",
       "3  no_failure   4          NaN      133  \n",
       "4  no_failure   5          NaN      155  \n",
       "\n",
       "[5 rows x 176 columns]"
      ]
     },
     "execution_count": 18,
     "metadata": {},
     "output_type": "execute_result"
    }
   ],
   "source": [
    "# Get ID Training Data\n",
    "def getStringSiteID(x):\n",
    "    return str(int(x))\n",
    "training_data1['site_id']=training_data1['site'].apply(getStringSiteID)\n",
    "training_data1 = training_data1.drop(['site'],axis = 1)\n",
    "training_data1.head()"
   ]
  },
  {
   "cell_type": "code",
   "execution_count": 19,
   "metadata": {
    "ExecuteTime": {
     "end_time": "2019-02-28T18:38:41.924838Z",
     "start_time": "2019-02-28T18:38:41.841920Z"
    }
   },
   "outputs": [
    {
     "data": {
      "text/html": [
       "<div>\n",
       "<style scoped>\n",
       "    .dataframe tbody tr th:only-of-type {\n",
       "        vertical-align: middle;\n",
       "    }\n",
       "\n",
       "    .dataframe tbody tr th {\n",
       "        vertical-align: top;\n",
       "    }\n",
       "\n",
       "    .dataframe thead th {\n",
       "        text-align: right;\n",
       "    }\n",
       "</style>\n",
       "<table border=\"1\" class=\"dataframe\">\n",
       "  <thead>\n",
       "    <tr style=\"text-align: right;\">\n",
       "      <th></th>\n",
       "      <th>sensor_1</th>\n",
       "      <th>sensor_2</th>\n",
       "      <th>sensor_3</th>\n",
       "      <th>sensor_4</th>\n",
       "      <th>sensor_5</th>\n",
       "      <th>sensor_6</th>\n",
       "      <th>sensor_7</th>\n",
       "      <th>sensor_8</th>\n",
       "      <th>sensor_9</th>\n",
       "      <th>sensor_10</th>\n",
       "      <th>...</th>\n",
       "      <th>sensor_167</th>\n",
       "      <th>sensor_168</th>\n",
       "      <th>sensor_169</th>\n",
       "      <th>sensor_170</th>\n",
       "      <th>sensor_171</th>\n",
       "      <th>sensor_172</th>\n",
       "      <th>id</th>\n",
       "      <th>status</th>\n",
       "      <th>repair_cost</th>\n",
       "      <th>site_id</th>\n",
       "    </tr>\n",
       "  </thead>\n",
       "  <tbody>\n",
       "    <tr>\n",
       "      <th>0</th>\n",
       "      <td>0.0</td>\n",
       "      <td>-2.737503e+03</td>\n",
       "      <td>-9.101747e+02</td>\n",
       "      <td>NaN</td>\n",
       "      <td>Off</td>\n",
       "      <td>NaN</td>\n",
       "      <td>-1.594930</td>\n",
       "      <td>2.543392e+04</td>\n",
       "      <td>0.0</td>\n",
       "      <td>-1.047049e+04</td>\n",
       "      <td>...</td>\n",
       "      <td>178.200353</td>\n",
       "      <td>0.000000</td>\n",
       "      <td>0.0</td>\n",
       "      <td>0.0</td>\n",
       "      <td>0.000000</td>\n",
       "      <td>-6.425730e+02</td>\n",
       "      <td>11653</td>\n",
       "      <td>no_failure</td>\n",
       "      <td>0</td>\n",
       "      <td>46</td>\n",
       "    </tr>\n",
       "    <tr>\n",
       "      <th>1</th>\n",
       "      <td>0.0</td>\n",
       "      <td>0.000000e+00</td>\n",
       "      <td>0.000000e+00</td>\n",
       "      <td>NaN</td>\n",
       "      <td>Off</td>\n",
       "      <td>NaN</td>\n",
       "      <td>0.000000</td>\n",
       "      <td>3.233714e+05</td>\n",
       "      <td>0.0</td>\n",
       "      <td>3.017365e+08</td>\n",
       "      <td>...</td>\n",
       "      <td>0.000000</td>\n",
       "      <td>0.000000</td>\n",
       "      <td>0.0</td>\n",
       "      <td>0.0</td>\n",
       "      <td>-2601.130232</td>\n",
       "      <td>0.000000e+00</td>\n",
       "      <td>11654</td>\n",
       "      <td>no_failure</td>\n",
       "      <td>0</td>\n",
       "      <td>282</td>\n",
       "    </tr>\n",
       "    <tr>\n",
       "      <th>2</th>\n",
       "      <td>0.0</td>\n",
       "      <td>1.353510e+07</td>\n",
       "      <td>1.578386e+06</td>\n",
       "      <td>NaN</td>\n",
       "      <td>Off</td>\n",
       "      <td>NaN</td>\n",
       "      <td>350.591808</td>\n",
       "      <td>-1.690603e+04</td>\n",
       "      <td>0.0</td>\n",
       "      <td>-3.925724e+04</td>\n",
       "      <td>...</td>\n",
       "      <td>9804.287055</td>\n",
       "      <td>45.191905</td>\n",
       "      <td>0.0</td>\n",
       "      <td>0.0</td>\n",
       "      <td>0.000000</td>\n",
       "      <td>4.201649e+07</td>\n",
       "      <td>11655</td>\n",
       "      <td>no_failure</td>\n",
       "      <td>0</td>\n",
       "      <td>46</td>\n",
       "    </tr>\n",
       "    <tr>\n",
       "      <th>3</th>\n",
       "      <td>0.0</td>\n",
       "      <td>2.734517e+06</td>\n",
       "      <td>1.428777e+04</td>\n",
       "      <td>NaN</td>\n",
       "      <td>Off</td>\n",
       "      <td>NaN</td>\n",
       "      <td>NaN</td>\n",
       "      <td>1.909930e+06</td>\n",
       "      <td>0.0</td>\n",
       "      <td>-1.626073e+03</td>\n",
       "      <td>...</td>\n",
       "      <td>0.000000</td>\n",
       "      <td>0.000000</td>\n",
       "      <td>0.0</td>\n",
       "      <td>0.0</td>\n",
       "      <td>0.000000</td>\n",
       "      <td>2.500897e+06</td>\n",
       "      <td>11656</td>\n",
       "      <td>no_failure</td>\n",
       "      <td>0</td>\n",
       "      <td>309</td>\n",
       "    </tr>\n",
       "    <tr>\n",
       "      <th>4</th>\n",
       "      <td>0.0</td>\n",
       "      <td>2.241955e+06</td>\n",
       "      <td>4.884552e+05</td>\n",
       "      <td>735327.204935</td>\n",
       "      <td>Off</td>\n",
       "      <td>-154902.588506</td>\n",
       "      <td>NaN</td>\n",
       "      <td>-2.207590e+02</td>\n",
       "      <td>0.0</td>\n",
       "      <td>1.013275e+07</td>\n",
       "      <td>...</td>\n",
       "      <td>0.000000</td>\n",
       "      <td>0.000000</td>\n",
       "      <td>0.0</td>\n",
       "      <td>0.0</td>\n",
       "      <td>0.000000</td>\n",
       "      <td>-7.098801e+01</td>\n",
       "      <td>11657</td>\n",
       "      <td>no_failure</td>\n",
       "      <td>0</td>\n",
       "      <td>36</td>\n",
       "    </tr>\n",
       "  </tbody>\n",
       "</table>\n",
       "<p>5 rows × 176 columns</p>\n",
       "</div>"
      ],
      "text/plain": [
       "   sensor_1      sensor_2      sensor_3       sensor_4 sensor_5  \\\n",
       "0       0.0 -2.737503e+03 -9.101747e+02            NaN      Off   \n",
       "1       0.0  0.000000e+00  0.000000e+00            NaN      Off   \n",
       "2       0.0  1.353510e+07  1.578386e+06            NaN      Off   \n",
       "3       0.0  2.734517e+06  1.428777e+04            NaN      Off   \n",
       "4       0.0  2.241955e+06  4.884552e+05  735327.204935      Off   \n",
       "\n",
       "        sensor_6    sensor_7      sensor_8  sensor_9     sensor_10  ...  \\\n",
       "0            NaN   -1.594930  2.543392e+04       0.0 -1.047049e+04  ...   \n",
       "1            NaN    0.000000  3.233714e+05       0.0  3.017365e+08  ...   \n",
       "2            NaN  350.591808 -1.690603e+04       0.0 -3.925724e+04  ...   \n",
       "3            NaN         NaN  1.909930e+06       0.0 -1.626073e+03  ...   \n",
       "4 -154902.588506         NaN -2.207590e+02       0.0  1.013275e+07  ...   \n",
       "\n",
       "    sensor_167  sensor_168  sensor_169  sensor_170   sensor_171    sensor_172  \\\n",
       "0   178.200353    0.000000         0.0         0.0     0.000000 -6.425730e+02   \n",
       "1     0.000000    0.000000         0.0         0.0 -2601.130232  0.000000e+00   \n",
       "2  9804.287055   45.191905         0.0         0.0     0.000000  4.201649e+07   \n",
       "3     0.000000    0.000000         0.0         0.0     0.000000  2.500897e+06   \n",
       "4     0.000000    0.000000         0.0         0.0     0.000000 -7.098801e+01   \n",
       "\n",
       "      id      status  repair_cost  site_id  \n",
       "0  11653  no_failure            0       46  \n",
       "1  11654  no_failure            0      282  \n",
       "2  11655  no_failure            0       46  \n",
       "3  11656  no_failure            0      309  \n",
       "4  11657  no_failure            0       36  \n",
       "\n",
       "[5 rows x 176 columns]"
      ]
     },
     "execution_count": 19,
     "metadata": {},
     "output_type": "execute_result"
    }
   ],
   "source": [
    "# Get ID Testing Data \n",
    "def getStringSiteID(x):\n",
    "    return str(int(x))\n",
    "testing_data1['site_id']=testing_data1['site'].apply(getStringSiteID)\n",
    "testing_data1 = testing_data1.drop(['site'],axis = 1)\n",
    "testing_data1.head()"
   ]
  },
  {
   "cell_type": "code",
   "execution_count": 20,
   "metadata": {
    "ExecuteTime": {
     "end_time": "2019-02-28T18:38:41.929880Z",
     "start_time": "2019-02-28T18:38:41.926196Z"
    }
   },
   "outputs": [
    {
     "data": {
      "text/plain": [
       "(11652, 176)"
      ]
     },
     "execution_count": 20,
     "metadata": {},
     "output_type": "execute_result"
    }
   ],
   "source": [
    "# Check the shape\n",
    "training_data1.shape"
   ]
  },
  {
   "cell_type": "code",
   "execution_count": 21,
   "metadata": {
    "ExecuteTime": {
     "end_time": "2019-02-28T18:38:41.934899Z",
     "start_time": "2019-02-28T18:38:41.931418Z"
    }
   },
   "outputs": [
    {
     "data": {
      "text/plain": [
       "(46610, 176)"
      ]
     },
     "execution_count": 21,
     "metadata": {},
     "output_type": "execute_result"
    }
   ],
   "source": [
    "# Check the shape\n",
    "testing_data1.shape"
   ]
  },
  {
   "cell_type": "code",
   "execution_count": 22,
   "metadata": {
    "ExecuteTime": {
     "end_time": "2019-02-28T18:38:41.992494Z",
     "start_time": "2019-02-28T18:38:41.936473Z"
    }
   },
   "outputs": [
    {
     "data": {
      "text/plain": [
       "(11652, 181)"
      ]
     },
     "execution_count": 22,
     "metadata": {},
     "output_type": "execute_result"
    }
   ],
   "source": [
    "# Merge weather data with training\n",
    "merged_Train_df = pd.merge(training_data1,weather_data1,how='left',on='site_id')\n",
    "merged_Train_df.shape"
   ]
  },
  {
   "cell_type": "code",
   "execution_count": 23,
   "metadata": {
    "ExecuteTime": {
     "end_time": "2019-02-28T18:38:42.200632Z",
     "start_time": "2019-02-28T18:38:41.994196Z"
    }
   },
   "outputs": [
    {
     "data": {
      "text/plain": [
       "(46610, 181)"
      ]
     },
     "execution_count": 23,
     "metadata": {},
     "output_type": "execute_result"
    }
   ],
   "source": [
    "# Merge weather data with testing\n",
    "merged_Test_df = pd.merge(testing_data1,weather_data1,how='left',on='site_id')\n",
    "merged_Test_df.shape"
   ]
  },
  {
   "cell_type": "code",
   "execution_count": 24,
   "metadata": {
    "ExecuteTime": {
     "end_time": "2019-02-28T18:38:42.228732Z",
     "start_time": "2019-02-28T18:38:42.202419Z"
    }
   },
   "outputs": [
    {
     "data": {
      "text/html": [
       "<div>\n",
       "<style scoped>\n",
       "    .dataframe tbody tr th:only-of-type {\n",
       "        vertical-align: middle;\n",
       "    }\n",
       "\n",
       "    .dataframe tbody tr th {\n",
       "        vertical-align: top;\n",
       "    }\n",
       "\n",
       "    .dataframe thead th {\n",
       "        text-align: right;\n",
       "    }\n",
       "</style>\n",
       "<table border=\"1\" class=\"dataframe\">\n",
       "  <thead>\n",
       "    <tr style=\"text-align: right;\">\n",
       "      <th></th>\n",
       "      <th>sensor_1</th>\n",
       "      <th>sensor_2</th>\n",
       "      <th>sensor_3</th>\n",
       "      <th>sensor_4</th>\n",
       "      <th>sensor_5</th>\n",
       "      <th>sensor_6</th>\n",
       "      <th>sensor_7</th>\n",
       "      <th>sensor_8</th>\n",
       "      <th>sensor_9</th>\n",
       "      <th>sensor_10</th>\n",
       "      <th>...</th>\n",
       "      <th>sensor_172</th>\n",
       "      <th>status</th>\n",
       "      <th>id</th>\n",
       "      <th>repair_cost</th>\n",
       "      <th>site_id</th>\n",
       "      <th>high_temp</th>\n",
       "      <th>low_temp</th>\n",
       "      <th>wind_speed</th>\n",
       "      <th>precipitation</th>\n",
       "      <th>lightning_prob</th>\n",
       "    </tr>\n",
       "  </thead>\n",
       "  <tbody>\n",
       "    <tr>\n",
       "      <th>0</th>\n",
       "      <td>0.0</td>\n",
       "      <td>-9.611918e+03</td>\n",
       "      <td>-2.933241e+03</td>\n",
       "      <td>NaN</td>\n",
       "      <td>Off</td>\n",
       "      <td>NaN</td>\n",
       "      <td>-9.041325e+00</td>\n",
       "      <td>-1.765398e+03</td>\n",
       "      <td>0.0</td>\n",
       "      <td>6.516170e+03</td>\n",
       "      <td>...</td>\n",
       "      <td>1.373863e+05</td>\n",
       "      <td>no_failure</td>\n",
       "      <td>1</td>\n",
       "      <td>NaN</td>\n",
       "      <td>36</td>\n",
       "      <td>58</td>\n",
       "      <td>46</td>\n",
       "      <td>7</td>\n",
       "      <td>True</td>\n",
       "      <td>Low</td>\n",
       "    </tr>\n",
       "    <tr>\n",
       "      <th>1</th>\n",
       "      <td>0.0</td>\n",
       "      <td>-1.485625e+06</td>\n",
       "      <td>9.446258e+07</td>\n",
       "      <td>-16168.112322</td>\n",
       "      <td>Off</td>\n",
       "      <td>292438.605471</td>\n",
       "      <td>NaN</td>\n",
       "      <td>-8.249012e+02</td>\n",
       "      <td>0.0</td>\n",
       "      <td>2.742908e+09</td>\n",
       "      <td>...</td>\n",
       "      <td>-2.290514e+05</td>\n",
       "      <td>no_failure</td>\n",
       "      <td>2</td>\n",
       "      <td>NaN</td>\n",
       "      <td>144</td>\n",
       "      <td>63</td>\n",
       "      <td>42</td>\n",
       "      <td>7</td>\n",
       "      <td>False</td>\n",
       "      <td>NaN</td>\n",
       "    </tr>\n",
       "    <tr>\n",
       "      <th>2</th>\n",
       "      <td>0.0</td>\n",
       "      <td>-3.829959e+04</td>\n",
       "      <td>7.816485e+06</td>\n",
       "      <td>NaN</td>\n",
       "      <td>Off</td>\n",
       "      <td>NaN</td>\n",
       "      <td>1.330036e+06</td>\n",
       "      <td>4.445554e+06</td>\n",
       "      <td>0.0</td>\n",
       "      <td>4.097052e+09</td>\n",
       "      <td>...</td>\n",
       "      <td>-2.941840e+03</td>\n",
       "      <td>no_failure</td>\n",
       "      <td>3</td>\n",
       "      <td>NaN</td>\n",
       "      <td>267</td>\n",
       "      <td>39</td>\n",
       "      <td>26</td>\n",
       "      <td>14</td>\n",
       "      <td>False</td>\n",
       "      <td>NaN</td>\n",
       "    </tr>\n",
       "    <tr>\n",
       "      <th>3</th>\n",
       "      <td>0.0</td>\n",
       "      <td>2.583618e+06</td>\n",
       "      <td>-5.677418e+03</td>\n",
       "      <td>NaN</td>\n",
       "      <td>Off</td>\n",
       "      <td>NaN</td>\n",
       "      <td>NaN</td>\n",
       "      <td>-1.001854e+03</td>\n",
       "      <td>0.0</td>\n",
       "      <td>-1.873686e+04</td>\n",
       "      <td>...</td>\n",
       "      <td>6.841415e+05</td>\n",
       "      <td>no_failure</td>\n",
       "      <td>4</td>\n",
       "      <td>NaN</td>\n",
       "      <td>133</td>\n",
       "      <td>64</td>\n",
       "      <td>52</td>\n",
       "      <td>19</td>\n",
       "      <td>False</td>\n",
       "      <td>NaN</td>\n",
       "    </tr>\n",
       "    <tr>\n",
       "      <th>4</th>\n",
       "      <td>0.0</td>\n",
       "      <td>-2.148565e+04</td>\n",
       "      <td>2.360711e+05</td>\n",
       "      <td>NaN</td>\n",
       "      <td>Off</td>\n",
       "      <td>NaN</td>\n",
       "      <td>-8.240733e+00</td>\n",
       "      <td>-5.384500e+03</td>\n",
       "      <td>0.0</td>\n",
       "      <td>-3.244766e+04</td>\n",
       "      <td>...</td>\n",
       "      <td>2.229896e+08</td>\n",
       "      <td>no_failure</td>\n",
       "      <td>5</td>\n",
       "      <td>NaN</td>\n",
       "      <td>155</td>\n",
       "      <td>48</td>\n",
       "      <td>44</td>\n",
       "      <td>6</td>\n",
       "      <td>False</td>\n",
       "      <td>NaN</td>\n",
       "    </tr>\n",
       "  </tbody>\n",
       "</table>\n",
       "<p>5 rows × 181 columns</p>\n",
       "</div>"
      ],
      "text/plain": [
       "   sensor_1      sensor_2      sensor_3      sensor_4 sensor_5       sensor_6  \\\n",
       "0       0.0 -9.611918e+03 -2.933241e+03           NaN      Off            NaN   \n",
       "1       0.0 -1.485625e+06  9.446258e+07 -16168.112322      Off  292438.605471   \n",
       "2       0.0 -3.829959e+04  7.816485e+06           NaN      Off            NaN   \n",
       "3       0.0  2.583618e+06 -5.677418e+03           NaN      Off            NaN   \n",
       "4       0.0 -2.148565e+04  2.360711e+05           NaN      Off            NaN   \n",
       "\n",
       "       sensor_7      sensor_8  sensor_9     sensor_10  ...    sensor_172  \\\n",
       "0 -9.041325e+00 -1.765398e+03       0.0  6.516170e+03  ...  1.373863e+05   \n",
       "1           NaN -8.249012e+02       0.0  2.742908e+09  ... -2.290514e+05   \n",
       "2  1.330036e+06  4.445554e+06       0.0  4.097052e+09  ... -2.941840e+03   \n",
       "3           NaN -1.001854e+03       0.0 -1.873686e+04  ...  6.841415e+05   \n",
       "4 -8.240733e+00 -5.384500e+03       0.0 -3.244766e+04  ...  2.229896e+08   \n",
       "\n",
       "       status  id  repair_cost  site_id  high_temp  low_temp  wind_speed  \\\n",
       "0  no_failure   1          NaN       36         58        46           7   \n",
       "1  no_failure   2          NaN      144         63        42           7   \n",
       "2  no_failure   3          NaN      267         39        26          14   \n",
       "3  no_failure   4          NaN      133         64        52          19   \n",
       "4  no_failure   5          NaN      155         48        44           6   \n",
       "\n",
       "   precipitation  lightning_prob  \n",
       "0           True             Low  \n",
       "1          False             NaN  \n",
       "2          False             NaN  \n",
       "3          False             NaN  \n",
       "4          False             NaN  \n",
       "\n",
       "[5 rows x 181 columns]"
      ]
     },
     "execution_count": 24,
     "metadata": {},
     "output_type": "execute_result"
    }
   ],
   "source": [
    "# View Sample\n",
    "merged_Train_df.head()"
   ]
  },
  {
   "cell_type": "code",
   "execution_count": 25,
   "metadata": {
    "ExecuteTime": {
     "end_time": "2019-02-28T18:38:42.386786Z",
     "start_time": "2019-02-28T18:38:42.230391Z"
    }
   },
   "outputs": [],
   "source": [
    "# Removing unneeded columns from train and test\n",
    "merged_Train_df1 = merged_Train_df.drop(['id','repair_cost'],axis = 1)\n",
    "merged_Test_df1 = merged_Test_df.drop(['id','repair_cost'],axis = 1)\n"
   ]
  },
  {
   "cell_type": "code",
   "execution_count": 26,
   "metadata": {
    "ExecuteTime": {
     "end_time": "2019-02-28T18:38:42.431967Z",
     "start_time": "2019-02-28T18:38:42.388727Z"
    }
   },
   "outputs": [],
   "source": [
    "merged_Train_df2 = merged_Train_df1.copy()\n",
    "merged_Test_df2 = merged_Test_df1.copy()"
   ]
  },
  {
   "cell_type": "markdown",
   "metadata": {},
   "source": [
    "### Numerical Columns"
   ]
  },
  {
   "cell_type": "code",
   "execution_count": 27,
   "metadata": {
    "ExecuteTime": {
     "end_time": "2019-02-28T18:38:42.437159Z",
     "start_time": "2019-02-28T18:38:42.433905Z"
    }
   },
   "outputs": [],
   "source": [
    "# Identify numerical columns\n",
    "numerical_cols = list(set(list(merged_Train_df2.columns))-set(['sensor_5','sensor_21','sensor_97','sensor_146','sensor_153','status','site_id','precipitation','lightning_prob']))"
   ]
  },
  {
   "cell_type": "code",
   "execution_count": 5,
   "metadata": {
    "ExecuteTime": {
     "end_time": "2019-03-14T19:00:39.374629Z",
     "start_time": "2019-03-14T19:00:39.372245Z"
    }
   },
   "outputs": [],
   "source": [
    "# # Actual replacement of the missing value using median value for numerical columns in train and test data\n",
    "# # Taking care of missing data in numerical columns\n",
    "# from sklearn.preprocessing import Imputer\n",
    "# imputer = Imputer(missing_values = 'NaN', strategy = 'median', axis = 0)\n",
    "# imputer = imputer.fit(merged_Train_df2[numerical_cols])\n",
    "\n",
    "# merged_Train_df2[numerical_cols] = imputer.transform(merged_Train_df2[numerical_cols])\n",
    "# merged_Test_df2[numerical_cols] = imputer.transform(merged_Test_df2[numerical_cols])"
   ]
  },
  {
   "cell_type": "code",
   "execution_count": 29,
   "metadata": {
    "ExecuteTime": {
     "end_time": "2019-02-28T18:38:44.582106Z",
     "start_time": "2019-02-28T18:38:44.511773Z"
    }
   },
   "outputs": [],
   "source": [
    "merged_Train_df3 = merged_Train_df2.copy()\n",
    "merged_Test_df3 = merged_Test_df2.copy()"
   ]
  },
  {
   "cell_type": "code",
   "execution_count": 30,
   "metadata": {
    "ExecuteTime": {
     "end_time": "2019-02-28T18:38:44.588117Z",
     "start_time": "2019-02-28T18:38:44.584066Z"
    }
   },
   "outputs": [
    {
     "data": {
      "text/plain": [
       "Index(['sensor_1', 'sensor_2', 'sensor_3', 'sensor_4', 'sensor_5', 'sensor_6',\n",
       "       'sensor_7', 'sensor_8', 'sensor_9', 'sensor_10',\n",
       "       ...\n",
       "       'sensor_170', 'sensor_171', 'sensor_172', 'status', 'site_id',\n",
       "       'high_temp', 'low_temp', 'wind_speed', 'precipitation',\n",
       "       'lightning_prob'],\n",
       "      dtype='object', length=179)"
      ]
     },
     "execution_count": 30,
     "metadata": {},
     "output_type": "execute_result"
    }
   ],
   "source": [
    "# Validate columns\n",
    "merged_Train_df3.columns"
   ]
  },
  {
   "cell_type": "code",
   "execution_count": 31,
   "metadata": {
    "ExecuteTime": {
     "end_time": "2019-02-28T18:38:44.594155Z",
     "start_time": "2019-02-28T18:38:44.590310Z"
    }
   },
   "outputs": [
    {
     "data": {
      "text/plain": [
       "Index(['sensor_1', 'sensor_2', 'sensor_3', 'sensor_4', 'sensor_5', 'sensor_6',\n",
       "       'sensor_7', 'sensor_8', 'sensor_9', 'sensor_10',\n",
       "       ...\n",
       "       'sensor_170', 'sensor_171', 'sensor_172', 'status', 'site_id',\n",
       "       'high_temp', 'low_temp', 'wind_speed', 'precipitation',\n",
       "       'lightning_prob'],\n",
       "      dtype='object', length=179)"
      ]
     },
     "execution_count": 31,
     "metadata": {},
     "output_type": "execute_result"
    }
   ],
   "source": [
    "# Validate columns\n",
    "merged_Test_df3.columns"
   ]
  },
  {
   "cell_type": "markdown",
   "metadata": {},
   "source": [
    "### Categorical Columns"
   ]
  },
  {
   "cell_type": "code",
   "execution_count": 32,
   "metadata": {
    "ExecuteTime": {
     "end_time": "2019-02-28T18:38:44.695067Z",
     "start_time": "2019-02-28T18:38:44.596096Z"
    }
   },
   "outputs": [],
   "source": [
    "# Prepare for one hot encoding of categorical data\n",
    "tempgetdummy=pd.concat([merged_Train_df3,merged_Test_df3],axis=0)\n",
    "xlist=list(tempgetdummy.columns)"
   ]
  },
  {
   "cell_type": "code",
   "execution_count": 33,
   "metadata": {
    "ExecuteTime": {
     "end_time": "2019-02-28T18:38:44.735194Z",
     "start_time": "2019-02-28T18:38:44.696861Z"
    }
   },
   "outputs": [
    {
     "data": {
      "text/html": [
       "<div>\n",
       "<style scoped>\n",
       "    .dataframe tbody tr th:only-of-type {\n",
       "        vertical-align: middle;\n",
       "    }\n",
       "\n",
       "    .dataframe tbody tr th {\n",
       "        vertical-align: top;\n",
       "    }\n",
       "\n",
       "    .dataframe thead th {\n",
       "        text-align: right;\n",
       "    }\n",
       "</style>\n",
       "<table border=\"1\" class=\"dataframe\">\n",
       "  <thead>\n",
       "    <tr style=\"text-align: right;\">\n",
       "      <th></th>\n",
       "      <th>sensor_1</th>\n",
       "      <th>sensor_2</th>\n",
       "      <th>sensor_3</th>\n",
       "      <th>sensor_4</th>\n",
       "      <th>sensor_5</th>\n",
       "      <th>sensor_6</th>\n",
       "      <th>sensor_7</th>\n",
       "      <th>sensor_8</th>\n",
       "      <th>sensor_9</th>\n",
       "      <th>sensor_10</th>\n",
       "      <th>...</th>\n",
       "      <th>sensor_170</th>\n",
       "      <th>sensor_171</th>\n",
       "      <th>sensor_172</th>\n",
       "      <th>status</th>\n",
       "      <th>site_id</th>\n",
       "      <th>high_temp</th>\n",
       "      <th>low_temp</th>\n",
       "      <th>wind_speed</th>\n",
       "      <th>precipitation</th>\n",
       "      <th>lightning_prob</th>\n",
       "    </tr>\n",
       "  </thead>\n",
       "  <tbody>\n",
       "    <tr>\n",
       "      <th>0</th>\n",
       "      <td>0.0</td>\n",
       "      <td>-9.611918e+03</td>\n",
       "      <td>-2.933241e+03</td>\n",
       "      <td>0.000000</td>\n",
       "      <td>Off</td>\n",
       "      <td>0.000000</td>\n",
       "      <td>-9.041325e+00</td>\n",
       "      <td>-1.765398e+03</td>\n",
       "      <td>0.0</td>\n",
       "      <td>6.516170e+03</td>\n",
       "      <td>...</td>\n",
       "      <td>0.0</td>\n",
       "      <td>-2385.106339</td>\n",
       "      <td>1.373863e+05</td>\n",
       "      <td>no_failure</td>\n",
       "      <td>36</td>\n",
       "      <td>58.0</td>\n",
       "      <td>46.0</td>\n",
       "      <td>7.0</td>\n",
       "      <td>True</td>\n",
       "      <td>Low</td>\n",
       "    </tr>\n",
       "    <tr>\n",
       "      <th>1</th>\n",
       "      <td>0.0</td>\n",
       "      <td>-1.485625e+06</td>\n",
       "      <td>9.446258e+07</td>\n",
       "      <td>-16168.112322</td>\n",
       "      <td>Off</td>\n",
       "      <td>292438.605471</td>\n",
       "      <td>0.000000e+00</td>\n",
       "      <td>-8.249012e+02</td>\n",
       "      <td>0.0</td>\n",
       "      <td>2.742908e+09</td>\n",
       "      <td>...</td>\n",
       "      <td>0.0</td>\n",
       "      <td>0.000000</td>\n",
       "      <td>-2.290514e+05</td>\n",
       "      <td>no_failure</td>\n",
       "      <td>144</td>\n",
       "      <td>63.0</td>\n",
       "      <td>42.0</td>\n",
       "      <td>7.0</td>\n",
       "      <td>False</td>\n",
       "      <td>NaN</td>\n",
       "    </tr>\n",
       "    <tr>\n",
       "      <th>2</th>\n",
       "      <td>0.0</td>\n",
       "      <td>-3.829959e+04</td>\n",
       "      <td>7.816485e+06</td>\n",
       "      <td>0.000000</td>\n",
       "      <td>Off</td>\n",
       "      <td>0.000000</td>\n",
       "      <td>1.330036e+06</td>\n",
       "      <td>4.445554e+06</td>\n",
       "      <td>0.0</td>\n",
       "      <td>4.097052e+09</td>\n",
       "      <td>...</td>\n",
       "      <td>0.0</td>\n",
       "      <td>0.000000</td>\n",
       "      <td>-2.941840e+03</td>\n",
       "      <td>no_failure</td>\n",
       "      <td>267</td>\n",
       "      <td>39.0</td>\n",
       "      <td>26.0</td>\n",
       "      <td>14.0</td>\n",
       "      <td>False</td>\n",
       "      <td>NaN</td>\n",
       "    </tr>\n",
       "    <tr>\n",
       "      <th>3</th>\n",
       "      <td>0.0</td>\n",
       "      <td>2.583618e+06</td>\n",
       "      <td>-5.677418e+03</td>\n",
       "      <td>0.000000</td>\n",
       "      <td>Off</td>\n",
       "      <td>0.000000</td>\n",
       "      <td>0.000000e+00</td>\n",
       "      <td>-1.001854e+03</td>\n",
       "      <td>0.0</td>\n",
       "      <td>-1.873686e+04</td>\n",
       "      <td>...</td>\n",
       "      <td>0.0</td>\n",
       "      <td>235385.978872</td>\n",
       "      <td>6.841415e+05</td>\n",
       "      <td>no_failure</td>\n",
       "      <td>133</td>\n",
       "      <td>64.0</td>\n",
       "      <td>52.0</td>\n",
       "      <td>19.0</td>\n",
       "      <td>False</td>\n",
       "      <td>NaN</td>\n",
       "    </tr>\n",
       "    <tr>\n",
       "      <th>4</th>\n",
       "      <td>0.0</td>\n",
       "      <td>-2.148565e+04</td>\n",
       "      <td>2.360711e+05</td>\n",
       "      <td>0.000000</td>\n",
       "      <td>Off</td>\n",
       "      <td>0.000000</td>\n",
       "      <td>-8.240733e+00</td>\n",
       "      <td>-5.384500e+03</td>\n",
       "      <td>0.0</td>\n",
       "      <td>-3.244766e+04</td>\n",
       "      <td>...</td>\n",
       "      <td>0.0</td>\n",
       "      <td>0.000000</td>\n",
       "      <td>2.229896e+08</td>\n",
       "      <td>no_failure</td>\n",
       "      <td>155</td>\n",
       "      <td>48.0</td>\n",
       "      <td>44.0</td>\n",
       "      <td>6.0</td>\n",
       "      <td>False</td>\n",
       "      <td>NaN</td>\n",
       "    </tr>\n",
       "  </tbody>\n",
       "</table>\n",
       "<p>5 rows × 179 columns</p>\n",
       "</div>"
      ],
      "text/plain": [
       "   sensor_1      sensor_2      sensor_3      sensor_4 sensor_5       sensor_6  \\\n",
       "0       0.0 -9.611918e+03 -2.933241e+03      0.000000      Off       0.000000   \n",
       "1       0.0 -1.485625e+06  9.446258e+07 -16168.112322      Off  292438.605471   \n",
       "2       0.0 -3.829959e+04  7.816485e+06      0.000000      Off       0.000000   \n",
       "3       0.0  2.583618e+06 -5.677418e+03      0.000000      Off       0.000000   \n",
       "4       0.0 -2.148565e+04  2.360711e+05      0.000000      Off       0.000000   \n",
       "\n",
       "       sensor_7      sensor_8  sensor_9     sensor_10  ...  sensor_170  \\\n",
       "0 -9.041325e+00 -1.765398e+03       0.0  6.516170e+03  ...         0.0   \n",
       "1  0.000000e+00 -8.249012e+02       0.0  2.742908e+09  ...         0.0   \n",
       "2  1.330036e+06  4.445554e+06       0.0  4.097052e+09  ...         0.0   \n",
       "3  0.000000e+00 -1.001854e+03       0.0 -1.873686e+04  ...         0.0   \n",
       "4 -8.240733e+00 -5.384500e+03       0.0 -3.244766e+04  ...         0.0   \n",
       "\n",
       "      sensor_171    sensor_172      status  site_id  high_temp  low_temp  \\\n",
       "0   -2385.106339  1.373863e+05  no_failure       36       58.0      46.0   \n",
       "1       0.000000 -2.290514e+05  no_failure      144       63.0      42.0   \n",
       "2       0.000000 -2.941840e+03  no_failure      267       39.0      26.0   \n",
       "3  235385.978872  6.841415e+05  no_failure      133       64.0      52.0   \n",
       "4       0.000000  2.229896e+08  no_failure      155       48.0      44.0   \n",
       "\n",
       "   wind_speed  precipitation  lightning_prob  \n",
       "0         7.0           True             Low  \n",
       "1         7.0          False             NaN  \n",
       "2        14.0          False             NaN  \n",
       "3        19.0          False             NaN  \n",
       "4         6.0          False             NaN  \n",
       "\n",
       "[5 rows x 179 columns]"
      ]
     },
     "execution_count": 33,
     "metadata": {},
     "output_type": "execute_result"
    }
   ],
   "source": [
    "tempgetdummy.head()"
   ]
  },
  {
   "cell_type": "code",
   "execution_count": 34,
   "metadata": {
    "ExecuteTime": {
     "end_time": "2019-02-28T18:38:45.135226Z",
     "start_time": "2019-02-28T18:38:44.737311Z"
    }
   },
   "outputs": [],
   "source": [
    "# Do one hot encoding of categorical data\n",
    "tempgetdummy2 = pd.get_dummies(tempgetdummy,columns=['sensor_5','sensor_21','sensor_97','sensor_146','sensor_153','site_id','precipitation','lightning_prob'],drop_first=True)"
   ]
  },
  {
   "cell_type": "code",
   "execution_count": 35,
   "metadata": {
    "ExecuteTime": {
     "end_time": "2019-02-28T18:38:45.156899Z",
     "start_time": "2019-02-28T18:38:45.137143Z"
    }
   },
   "outputs": [
    {
     "data": {
      "text/html": [
       "<div>\n",
       "<style scoped>\n",
       "    .dataframe tbody tr th:only-of-type {\n",
       "        vertical-align: middle;\n",
       "    }\n",
       "\n",
       "    .dataframe tbody tr th {\n",
       "        vertical-align: top;\n",
       "    }\n",
       "\n",
       "    .dataframe thead th {\n",
       "        text-align: right;\n",
       "    }\n",
       "</style>\n",
       "<table border=\"1\" class=\"dataframe\">\n",
       "  <thead>\n",
       "    <tr style=\"text-align: right;\">\n",
       "      <th></th>\n",
       "      <th>sensor_1</th>\n",
       "      <th>sensor_2</th>\n",
       "      <th>sensor_3</th>\n",
       "      <th>sensor_4</th>\n",
       "      <th>sensor_6</th>\n",
       "      <th>sensor_7</th>\n",
       "      <th>sensor_8</th>\n",
       "      <th>sensor_9</th>\n",
       "      <th>sensor_10</th>\n",
       "      <th>sensor_11</th>\n",
       "      <th>...</th>\n",
       "      <th>site_id_92</th>\n",
       "      <th>site_id_93</th>\n",
       "      <th>site_id_94</th>\n",
       "      <th>site_id_95</th>\n",
       "      <th>site_id_96</th>\n",
       "      <th>site_id_97</th>\n",
       "      <th>site_id_98</th>\n",
       "      <th>site_id_99</th>\n",
       "      <th>precipitation_True</th>\n",
       "      <th>lightning_prob_Low</th>\n",
       "    </tr>\n",
       "  </thead>\n",
       "  <tbody>\n",
       "    <tr>\n",
       "      <th>0</th>\n",
       "      <td>0.0</td>\n",
       "      <td>-9.611918e+03</td>\n",
       "      <td>-2.933241e+03</td>\n",
       "      <td>0.000000</td>\n",
       "      <td>0.000000</td>\n",
       "      <td>-9.041325e+00</td>\n",
       "      <td>-1.765398e+03</td>\n",
       "      <td>0.0</td>\n",
       "      <td>6.516170e+03</td>\n",
       "      <td>-3.122919e+01</td>\n",
       "      <td>...</td>\n",
       "      <td>0</td>\n",
       "      <td>0</td>\n",
       "      <td>0</td>\n",
       "      <td>0</td>\n",
       "      <td>0</td>\n",
       "      <td>0</td>\n",
       "      <td>0</td>\n",
       "      <td>0</td>\n",
       "      <td>1</td>\n",
       "      <td>1</td>\n",
       "    </tr>\n",
       "    <tr>\n",
       "      <th>1</th>\n",
       "      <td>0.0</td>\n",
       "      <td>-1.485625e+06</td>\n",
       "      <td>9.446258e+07</td>\n",
       "      <td>-16168.112322</td>\n",
       "      <td>292438.605471</td>\n",
       "      <td>0.000000e+00</td>\n",
       "      <td>-8.249012e+02</td>\n",
       "      <td>0.0</td>\n",
       "      <td>2.742908e+09</td>\n",
       "      <td>2.053135e+07</td>\n",
       "      <td>...</td>\n",
       "      <td>0</td>\n",
       "      <td>0</td>\n",
       "      <td>0</td>\n",
       "      <td>0</td>\n",
       "      <td>0</td>\n",
       "      <td>0</td>\n",
       "      <td>0</td>\n",
       "      <td>0</td>\n",
       "      <td>0</td>\n",
       "      <td>0</td>\n",
       "    </tr>\n",
       "    <tr>\n",
       "      <th>2</th>\n",
       "      <td>0.0</td>\n",
       "      <td>-3.829959e+04</td>\n",
       "      <td>7.816485e+06</td>\n",
       "      <td>0.000000</td>\n",
       "      <td>0.000000</td>\n",
       "      <td>1.330036e+06</td>\n",
       "      <td>4.445554e+06</td>\n",
       "      <td>0.0</td>\n",
       "      <td>4.097052e+09</td>\n",
       "      <td>-5.633825e+03</td>\n",
       "      <td>...</td>\n",
       "      <td>0</td>\n",
       "      <td>0</td>\n",
       "      <td>0</td>\n",
       "      <td>0</td>\n",
       "      <td>0</td>\n",
       "      <td>0</td>\n",
       "      <td>0</td>\n",
       "      <td>0</td>\n",
       "      <td>0</td>\n",
       "      <td>0</td>\n",
       "    </tr>\n",
       "    <tr>\n",
       "      <th>3</th>\n",
       "      <td>0.0</td>\n",
       "      <td>2.583618e+06</td>\n",
       "      <td>-5.677418e+03</td>\n",
       "      <td>0.000000</td>\n",
       "      <td>0.000000</td>\n",
       "      <td>0.000000e+00</td>\n",
       "      <td>-1.001854e+03</td>\n",
       "      <td>0.0</td>\n",
       "      <td>-1.873686e+04</td>\n",
       "      <td>2.700465e+05</td>\n",
       "      <td>...</td>\n",
       "      <td>0</td>\n",
       "      <td>0</td>\n",
       "      <td>0</td>\n",
       "      <td>0</td>\n",
       "      <td>0</td>\n",
       "      <td>0</td>\n",
       "      <td>0</td>\n",
       "      <td>0</td>\n",
       "      <td>0</td>\n",
       "      <td>0</td>\n",
       "    </tr>\n",
       "    <tr>\n",
       "      <th>4</th>\n",
       "      <td>0.0</td>\n",
       "      <td>-2.148565e+04</td>\n",
       "      <td>2.360711e+05</td>\n",
       "      <td>0.000000</td>\n",
       "      <td>0.000000</td>\n",
       "      <td>-8.240733e+00</td>\n",
       "      <td>-5.384500e+03</td>\n",
       "      <td>0.0</td>\n",
       "      <td>-3.244766e+04</td>\n",
       "      <td>-1.699213e+04</td>\n",
       "      <td>...</td>\n",
       "      <td>0</td>\n",
       "      <td>0</td>\n",
       "      <td>0</td>\n",
       "      <td>0</td>\n",
       "      <td>0</td>\n",
       "      <td>0</td>\n",
       "      <td>0</td>\n",
       "      <td>0</td>\n",
       "      <td>0</td>\n",
       "      <td>0</td>\n",
       "    </tr>\n",
       "  </tbody>\n",
       "</table>\n",
       "<p>5 rows × 817 columns</p>\n",
       "</div>"
      ],
      "text/plain": [
       "   sensor_1      sensor_2      sensor_3      sensor_4       sensor_6  \\\n",
       "0       0.0 -9.611918e+03 -2.933241e+03      0.000000       0.000000   \n",
       "1       0.0 -1.485625e+06  9.446258e+07 -16168.112322  292438.605471   \n",
       "2       0.0 -3.829959e+04  7.816485e+06      0.000000       0.000000   \n",
       "3       0.0  2.583618e+06 -5.677418e+03      0.000000       0.000000   \n",
       "4       0.0 -2.148565e+04  2.360711e+05      0.000000       0.000000   \n",
       "\n",
       "       sensor_7      sensor_8  sensor_9     sensor_10     sensor_11  ...  \\\n",
       "0 -9.041325e+00 -1.765398e+03       0.0  6.516170e+03 -3.122919e+01  ...   \n",
       "1  0.000000e+00 -8.249012e+02       0.0  2.742908e+09  2.053135e+07  ...   \n",
       "2  1.330036e+06  4.445554e+06       0.0  4.097052e+09 -5.633825e+03  ...   \n",
       "3  0.000000e+00 -1.001854e+03       0.0 -1.873686e+04  2.700465e+05  ...   \n",
       "4 -8.240733e+00 -5.384500e+03       0.0 -3.244766e+04 -1.699213e+04  ...   \n",
       "\n",
       "   site_id_92  site_id_93  site_id_94  site_id_95  site_id_96  site_id_97  \\\n",
       "0           0           0           0           0           0           0   \n",
       "1           0           0           0           0           0           0   \n",
       "2           0           0           0           0           0           0   \n",
       "3           0           0           0           0           0           0   \n",
       "4           0           0           0           0           0           0   \n",
       "\n",
       "   site_id_98  site_id_99  precipitation_True  lightning_prob_Low  \n",
       "0           0           0                   1                   1  \n",
       "1           0           0                   0                   0  \n",
       "2           0           0                   0                   0  \n",
       "3           0           0                   0                   0  \n",
       "4           0           0                   0                   0  \n",
       "\n",
       "[5 rows x 817 columns]"
      ]
     },
     "execution_count": 35,
     "metadata": {},
     "output_type": "execute_result"
    }
   ],
   "source": [
    "tempgetdummy2.head()"
   ]
  },
  {
   "cell_type": "code",
   "execution_count": 36,
   "metadata": {
    "ExecuteTime": {
     "end_time": "2019-02-28T18:38:45.272110Z",
     "start_time": "2019-02-28T18:38:45.158279Z"
    }
   },
   "outputs": [],
   "source": [
    "# Split encoded data back into train and test\n",
    "merged_Train_df4=tempgetdummy2.iloc[:merged_Train_df3.shape[0],:]\n",
    "merged_Test_df4=tempgetdummy2.iloc[merged_Train_df3.shape[0]:,:]"
   ]
  },
  {
   "cell_type": "code",
   "execution_count": 37,
   "metadata": {
    "ExecuteTime": {
     "end_time": "2019-02-28T18:38:45.293710Z",
     "start_time": "2019-02-28T18:38:45.273947Z"
    }
   },
   "outputs": [
    {
     "data": {
      "text/html": [
       "<div>\n",
       "<style scoped>\n",
       "    .dataframe tbody tr th:only-of-type {\n",
       "        vertical-align: middle;\n",
       "    }\n",
       "\n",
       "    .dataframe tbody tr th {\n",
       "        vertical-align: top;\n",
       "    }\n",
       "\n",
       "    .dataframe thead th {\n",
       "        text-align: right;\n",
       "    }\n",
       "</style>\n",
       "<table border=\"1\" class=\"dataframe\">\n",
       "  <thead>\n",
       "    <tr style=\"text-align: right;\">\n",
       "      <th></th>\n",
       "      <th>sensor_1</th>\n",
       "      <th>sensor_2</th>\n",
       "      <th>sensor_3</th>\n",
       "      <th>sensor_4</th>\n",
       "      <th>sensor_6</th>\n",
       "      <th>sensor_7</th>\n",
       "      <th>sensor_8</th>\n",
       "      <th>sensor_9</th>\n",
       "      <th>sensor_10</th>\n",
       "      <th>sensor_11</th>\n",
       "      <th>...</th>\n",
       "      <th>site_id_92</th>\n",
       "      <th>site_id_93</th>\n",
       "      <th>site_id_94</th>\n",
       "      <th>site_id_95</th>\n",
       "      <th>site_id_96</th>\n",
       "      <th>site_id_97</th>\n",
       "      <th>site_id_98</th>\n",
       "      <th>site_id_99</th>\n",
       "      <th>precipitation_True</th>\n",
       "      <th>lightning_prob_Low</th>\n",
       "    </tr>\n",
       "  </thead>\n",
       "  <tbody>\n",
       "    <tr>\n",
       "      <th>0</th>\n",
       "      <td>0.0</td>\n",
       "      <td>-9.611918e+03</td>\n",
       "      <td>-2.933241e+03</td>\n",
       "      <td>0.000000</td>\n",
       "      <td>0.000000</td>\n",
       "      <td>-9.041325e+00</td>\n",
       "      <td>-1.765398e+03</td>\n",
       "      <td>0.0</td>\n",
       "      <td>6.516170e+03</td>\n",
       "      <td>-3.122919e+01</td>\n",
       "      <td>...</td>\n",
       "      <td>0</td>\n",
       "      <td>0</td>\n",
       "      <td>0</td>\n",
       "      <td>0</td>\n",
       "      <td>0</td>\n",
       "      <td>0</td>\n",
       "      <td>0</td>\n",
       "      <td>0</td>\n",
       "      <td>1</td>\n",
       "      <td>1</td>\n",
       "    </tr>\n",
       "    <tr>\n",
       "      <th>1</th>\n",
       "      <td>0.0</td>\n",
       "      <td>-1.485625e+06</td>\n",
       "      <td>9.446258e+07</td>\n",
       "      <td>-16168.112322</td>\n",
       "      <td>292438.605471</td>\n",
       "      <td>0.000000e+00</td>\n",
       "      <td>-8.249012e+02</td>\n",
       "      <td>0.0</td>\n",
       "      <td>2.742908e+09</td>\n",
       "      <td>2.053135e+07</td>\n",
       "      <td>...</td>\n",
       "      <td>0</td>\n",
       "      <td>0</td>\n",
       "      <td>0</td>\n",
       "      <td>0</td>\n",
       "      <td>0</td>\n",
       "      <td>0</td>\n",
       "      <td>0</td>\n",
       "      <td>0</td>\n",
       "      <td>0</td>\n",
       "      <td>0</td>\n",
       "    </tr>\n",
       "    <tr>\n",
       "      <th>2</th>\n",
       "      <td>0.0</td>\n",
       "      <td>-3.829959e+04</td>\n",
       "      <td>7.816485e+06</td>\n",
       "      <td>0.000000</td>\n",
       "      <td>0.000000</td>\n",
       "      <td>1.330036e+06</td>\n",
       "      <td>4.445554e+06</td>\n",
       "      <td>0.0</td>\n",
       "      <td>4.097052e+09</td>\n",
       "      <td>-5.633825e+03</td>\n",
       "      <td>...</td>\n",
       "      <td>0</td>\n",
       "      <td>0</td>\n",
       "      <td>0</td>\n",
       "      <td>0</td>\n",
       "      <td>0</td>\n",
       "      <td>0</td>\n",
       "      <td>0</td>\n",
       "      <td>0</td>\n",
       "      <td>0</td>\n",
       "      <td>0</td>\n",
       "    </tr>\n",
       "    <tr>\n",
       "      <th>3</th>\n",
       "      <td>0.0</td>\n",
       "      <td>2.583618e+06</td>\n",
       "      <td>-5.677418e+03</td>\n",
       "      <td>0.000000</td>\n",
       "      <td>0.000000</td>\n",
       "      <td>0.000000e+00</td>\n",
       "      <td>-1.001854e+03</td>\n",
       "      <td>0.0</td>\n",
       "      <td>-1.873686e+04</td>\n",
       "      <td>2.700465e+05</td>\n",
       "      <td>...</td>\n",
       "      <td>0</td>\n",
       "      <td>0</td>\n",
       "      <td>0</td>\n",
       "      <td>0</td>\n",
       "      <td>0</td>\n",
       "      <td>0</td>\n",
       "      <td>0</td>\n",
       "      <td>0</td>\n",
       "      <td>0</td>\n",
       "      <td>0</td>\n",
       "    </tr>\n",
       "    <tr>\n",
       "      <th>4</th>\n",
       "      <td>0.0</td>\n",
       "      <td>-2.148565e+04</td>\n",
       "      <td>2.360711e+05</td>\n",
       "      <td>0.000000</td>\n",
       "      <td>0.000000</td>\n",
       "      <td>-8.240733e+00</td>\n",
       "      <td>-5.384500e+03</td>\n",
       "      <td>0.0</td>\n",
       "      <td>-3.244766e+04</td>\n",
       "      <td>-1.699213e+04</td>\n",
       "      <td>...</td>\n",
       "      <td>0</td>\n",
       "      <td>0</td>\n",
       "      <td>0</td>\n",
       "      <td>0</td>\n",
       "      <td>0</td>\n",
       "      <td>0</td>\n",
       "      <td>0</td>\n",
       "      <td>0</td>\n",
       "      <td>0</td>\n",
       "      <td>0</td>\n",
       "    </tr>\n",
       "  </tbody>\n",
       "</table>\n",
       "<p>5 rows × 817 columns</p>\n",
       "</div>"
      ],
      "text/plain": [
       "   sensor_1      sensor_2      sensor_3      sensor_4       sensor_6  \\\n",
       "0       0.0 -9.611918e+03 -2.933241e+03      0.000000       0.000000   \n",
       "1       0.0 -1.485625e+06  9.446258e+07 -16168.112322  292438.605471   \n",
       "2       0.0 -3.829959e+04  7.816485e+06      0.000000       0.000000   \n",
       "3       0.0  2.583618e+06 -5.677418e+03      0.000000       0.000000   \n",
       "4       0.0 -2.148565e+04  2.360711e+05      0.000000       0.000000   \n",
       "\n",
       "       sensor_7      sensor_8  sensor_9     sensor_10     sensor_11  ...  \\\n",
       "0 -9.041325e+00 -1.765398e+03       0.0  6.516170e+03 -3.122919e+01  ...   \n",
       "1  0.000000e+00 -8.249012e+02       0.0  2.742908e+09  2.053135e+07  ...   \n",
       "2  1.330036e+06  4.445554e+06       0.0  4.097052e+09 -5.633825e+03  ...   \n",
       "3  0.000000e+00 -1.001854e+03       0.0 -1.873686e+04  2.700465e+05  ...   \n",
       "4 -8.240733e+00 -5.384500e+03       0.0 -3.244766e+04 -1.699213e+04  ...   \n",
       "\n",
       "   site_id_92  site_id_93  site_id_94  site_id_95  site_id_96  site_id_97  \\\n",
       "0           0           0           0           0           0           0   \n",
       "1           0           0           0           0           0           0   \n",
       "2           0           0           0           0           0           0   \n",
       "3           0           0           0           0           0           0   \n",
       "4           0           0           0           0           0           0   \n",
       "\n",
       "   site_id_98  site_id_99  precipitation_True  lightning_prob_Low  \n",
       "0           0           0                   1                   1  \n",
       "1           0           0                   0                   0  \n",
       "2           0           0                   0                   0  \n",
       "3           0           0                   0                   0  \n",
       "4           0           0                   0                   0  \n",
       "\n",
       "[5 rows x 817 columns]"
      ]
     },
     "execution_count": 37,
     "metadata": {},
     "output_type": "execute_result"
    }
   ],
   "source": [
    "merged_Train_df4.head()"
   ]
  },
  {
   "cell_type": "code",
   "execution_count": 38,
   "metadata": {
    "ExecuteTime": {
     "end_time": "2019-02-28T18:38:45.315322Z",
     "start_time": "2019-02-28T18:38:45.295206Z"
    }
   },
   "outputs": [
    {
     "data": {
      "text/html": [
       "<div>\n",
       "<style scoped>\n",
       "    .dataframe tbody tr th:only-of-type {\n",
       "        vertical-align: middle;\n",
       "    }\n",
       "\n",
       "    .dataframe tbody tr th {\n",
       "        vertical-align: top;\n",
       "    }\n",
       "\n",
       "    .dataframe thead th {\n",
       "        text-align: right;\n",
       "    }\n",
       "</style>\n",
       "<table border=\"1\" class=\"dataframe\">\n",
       "  <thead>\n",
       "    <tr style=\"text-align: right;\">\n",
       "      <th></th>\n",
       "      <th>sensor_1</th>\n",
       "      <th>sensor_2</th>\n",
       "      <th>sensor_3</th>\n",
       "      <th>sensor_4</th>\n",
       "      <th>sensor_6</th>\n",
       "      <th>sensor_7</th>\n",
       "      <th>sensor_8</th>\n",
       "      <th>sensor_9</th>\n",
       "      <th>sensor_10</th>\n",
       "      <th>sensor_11</th>\n",
       "      <th>...</th>\n",
       "      <th>site_id_92</th>\n",
       "      <th>site_id_93</th>\n",
       "      <th>site_id_94</th>\n",
       "      <th>site_id_95</th>\n",
       "      <th>site_id_96</th>\n",
       "      <th>site_id_97</th>\n",
       "      <th>site_id_98</th>\n",
       "      <th>site_id_99</th>\n",
       "      <th>precipitation_True</th>\n",
       "      <th>lightning_prob_Low</th>\n",
       "    </tr>\n",
       "  </thead>\n",
       "  <tbody>\n",
       "    <tr>\n",
       "      <th>0</th>\n",
       "      <td>0.0</td>\n",
       "      <td>-2.737503e+03</td>\n",
       "      <td>-9.101747e+02</td>\n",
       "      <td>0.000000</td>\n",
       "      <td>0.000000</td>\n",
       "      <td>-1.594930</td>\n",
       "      <td>2.543392e+04</td>\n",
       "      <td>0.0</td>\n",
       "      <td>-1.047049e+04</td>\n",
       "      <td>-198.640163</td>\n",
       "      <td>...</td>\n",
       "      <td>0</td>\n",
       "      <td>0</td>\n",
       "      <td>0</td>\n",
       "      <td>0</td>\n",
       "      <td>0</td>\n",
       "      <td>0</td>\n",
       "      <td>0</td>\n",
       "      <td>0</td>\n",
       "      <td>0</td>\n",
       "      <td>0</td>\n",
       "    </tr>\n",
       "    <tr>\n",
       "      <th>1</th>\n",
       "      <td>0.0</td>\n",
       "      <td>0.000000e+00</td>\n",
       "      <td>0.000000e+00</td>\n",
       "      <td>0.000000</td>\n",
       "      <td>0.000000</td>\n",
       "      <td>0.000000</td>\n",
       "      <td>3.233714e+05</td>\n",
       "      <td>0.0</td>\n",
       "      <td>3.017365e+08</td>\n",
       "      <td>0.000000</td>\n",
       "      <td>...</td>\n",
       "      <td>0</td>\n",
       "      <td>0</td>\n",
       "      <td>0</td>\n",
       "      <td>0</td>\n",
       "      <td>0</td>\n",
       "      <td>0</td>\n",
       "      <td>0</td>\n",
       "      <td>0</td>\n",
       "      <td>0</td>\n",
       "      <td>0</td>\n",
       "    </tr>\n",
       "    <tr>\n",
       "      <th>2</th>\n",
       "      <td>0.0</td>\n",
       "      <td>1.353510e+07</td>\n",
       "      <td>1.578386e+06</td>\n",
       "      <td>0.000000</td>\n",
       "      <td>0.000000</td>\n",
       "      <td>350.591808</td>\n",
       "      <td>-1.690603e+04</td>\n",
       "      <td>0.0</td>\n",
       "      <td>-3.925724e+04</td>\n",
       "      <td>-977.717330</td>\n",
       "      <td>...</td>\n",
       "      <td>0</td>\n",
       "      <td>0</td>\n",
       "      <td>0</td>\n",
       "      <td>0</td>\n",
       "      <td>0</td>\n",
       "      <td>0</td>\n",
       "      <td>0</td>\n",
       "      <td>0</td>\n",
       "      <td>0</td>\n",
       "      <td>0</td>\n",
       "    </tr>\n",
       "    <tr>\n",
       "      <th>3</th>\n",
       "      <td>0.0</td>\n",
       "      <td>2.734517e+06</td>\n",
       "      <td>1.428777e+04</td>\n",
       "      <td>0.000000</td>\n",
       "      <td>0.000000</td>\n",
       "      <td>0.000000</td>\n",
       "      <td>1.909930e+06</td>\n",
       "      <td>0.0</td>\n",
       "      <td>-1.626073e+03</td>\n",
       "      <td>-3.186201</td>\n",
       "      <td>...</td>\n",
       "      <td>0</td>\n",
       "      <td>0</td>\n",
       "      <td>0</td>\n",
       "      <td>0</td>\n",
       "      <td>0</td>\n",
       "      <td>0</td>\n",
       "      <td>0</td>\n",
       "      <td>0</td>\n",
       "      <td>0</td>\n",
       "      <td>0</td>\n",
       "    </tr>\n",
       "    <tr>\n",
       "      <th>4</th>\n",
       "      <td>0.0</td>\n",
       "      <td>2.241955e+06</td>\n",
       "      <td>4.884552e+05</td>\n",
       "      <td>735327.204935</td>\n",
       "      <td>-154902.588506</td>\n",
       "      <td>0.000000</td>\n",
       "      <td>-2.207590e+02</td>\n",
       "      <td>0.0</td>\n",
       "      <td>1.013275e+07</td>\n",
       "      <td>-1.973337</td>\n",
       "      <td>...</td>\n",
       "      <td>0</td>\n",
       "      <td>0</td>\n",
       "      <td>0</td>\n",
       "      <td>0</td>\n",
       "      <td>0</td>\n",
       "      <td>0</td>\n",
       "      <td>0</td>\n",
       "      <td>0</td>\n",
       "      <td>1</td>\n",
       "      <td>1</td>\n",
       "    </tr>\n",
       "  </tbody>\n",
       "</table>\n",
       "<p>5 rows × 817 columns</p>\n",
       "</div>"
      ],
      "text/plain": [
       "   sensor_1      sensor_2      sensor_3       sensor_4       sensor_6  \\\n",
       "0       0.0 -2.737503e+03 -9.101747e+02       0.000000       0.000000   \n",
       "1       0.0  0.000000e+00  0.000000e+00       0.000000       0.000000   \n",
       "2       0.0  1.353510e+07  1.578386e+06       0.000000       0.000000   \n",
       "3       0.0  2.734517e+06  1.428777e+04       0.000000       0.000000   \n",
       "4       0.0  2.241955e+06  4.884552e+05  735327.204935 -154902.588506   \n",
       "\n",
       "     sensor_7      sensor_8  sensor_9     sensor_10   sensor_11  ...  \\\n",
       "0   -1.594930  2.543392e+04       0.0 -1.047049e+04 -198.640163  ...   \n",
       "1    0.000000  3.233714e+05       0.0  3.017365e+08    0.000000  ...   \n",
       "2  350.591808 -1.690603e+04       0.0 -3.925724e+04 -977.717330  ...   \n",
       "3    0.000000  1.909930e+06       0.0 -1.626073e+03   -3.186201  ...   \n",
       "4    0.000000 -2.207590e+02       0.0  1.013275e+07   -1.973337  ...   \n",
       "\n",
       "   site_id_92  site_id_93  site_id_94  site_id_95  site_id_96  site_id_97  \\\n",
       "0           0           0           0           0           0           0   \n",
       "1           0           0           0           0           0           0   \n",
       "2           0           0           0           0           0           0   \n",
       "3           0           0           0           0           0           0   \n",
       "4           0           0           0           0           0           0   \n",
       "\n",
       "   site_id_98  site_id_99  precipitation_True  lightning_prob_Low  \n",
       "0           0           0                   0                   0  \n",
       "1           0           0                   0                   0  \n",
       "2           0           0                   0                   0  \n",
       "3           0           0                   0                   0  \n",
       "4           0           0                   1                   1  \n",
       "\n",
       "[5 rows x 817 columns]"
      ]
     },
     "execution_count": 38,
     "metadata": {},
     "output_type": "execute_result"
    }
   ],
   "source": [
    "merged_Test_df4.head()"
   ]
  },
  {
   "cell_type": "code",
   "execution_count": 39,
   "metadata": {
    "ExecuteTime": {
     "end_time": "2019-02-28T18:38:45.321403Z",
     "start_time": "2019-02-28T18:38:45.316890Z"
    }
   },
   "outputs": [
    {
     "data": {
      "text/plain": [
       "Index(['sensor_1', 'sensor_2', 'sensor_3', 'sensor_4', 'sensor_6', 'sensor_7',\n",
       "       'sensor_8', 'sensor_9', 'sensor_10', 'sensor_11',\n",
       "       ...\n",
       "       'site_id_92', 'site_id_93', 'site_id_94', 'site_id_95', 'site_id_96',\n",
       "       'site_id_97', 'site_id_98', 'site_id_99', 'precipitation_True',\n",
       "       'lightning_prob_Low'],\n",
       "      dtype='object', length=817)"
      ]
     },
     "execution_count": 39,
     "metadata": {},
     "output_type": "execute_result"
    }
   ],
   "source": [
    "# Validate columns\n",
    "merged_Train_df4.columns"
   ]
  },
  {
   "cell_type": "code",
   "execution_count": 40,
   "metadata": {
    "ExecuteTime": {
     "end_time": "2019-02-28T18:38:45.327085Z",
     "start_time": "2019-02-28T18:38:45.323021Z"
    }
   },
   "outputs": [
    {
     "data": {
      "text/plain": [
       "Index(['sensor_1', 'sensor_2', 'sensor_3', 'sensor_4', 'sensor_6', 'sensor_7',\n",
       "       'sensor_8', 'sensor_9', 'sensor_10', 'sensor_11',\n",
       "       ...\n",
       "       'site_id_92', 'site_id_93', 'site_id_94', 'site_id_95', 'site_id_96',\n",
       "       'site_id_97', 'site_id_98', 'site_id_99', 'precipitation_True',\n",
       "       'lightning_prob_Low'],\n",
       "      dtype='object', length=817)"
      ]
     },
     "execution_count": 40,
     "metadata": {},
     "output_type": "execute_result"
    }
   ],
   "source": [
    "# Validate columns\n",
    "merged_Test_df4.columns"
   ]
  },
  {
   "cell_type": "markdown",
   "metadata": {},
   "source": [
    "### Target Columns"
   ]
  },
  {
   "cell_type": "code",
   "execution_count": 1,
   "metadata": {
    "ExecuteTime": {
     "end_time": "2019-03-14T18:59:32.914786Z",
     "start_time": "2019-03-14T18:59:32.912296Z"
    },
    "code_folding": [],
    "scrolled": true
   },
   "outputs": [],
   "source": [
    "# # Label Encoding categorical data -status\n",
    "\n",
    "# # Encoding the Dependent Variable\n",
    "# merged_Train_df4['target']=0\n",
    "# merged_Train_df4.loc[merged_Train_df4.status==\"failure\",['target']]=1\n",
    "# merged_Train_df4.target.value_counts()"
   ]
  },
  {
   "cell_type": "code",
   "execution_count": 42,
   "metadata": {
    "ExecuteTime": {
     "end_time": "2019-02-28T18:38:45.425832Z",
     "start_time": "2019-02-28T18:38:45.422950Z"
    }
   },
   "outputs": [
    {
     "name": "stdout",
     "output_type": "stream",
     "text": [
      "(11652, 818)\n",
      "(46610, 817)\n"
     ]
    }
   ],
   "source": [
    "# Validate shape\n",
    "print(merged_Train_df4.shape)\n",
    "print(merged_Test_df4.shape)"
   ]
  },
  {
   "cell_type": "code",
   "execution_count": 43,
   "metadata": {
    "ExecuteTime": {
     "end_time": "2019-02-28T18:38:45.431759Z",
     "start_time": "2019-02-28T18:38:45.427888Z"
    }
   },
   "outputs": [
    {
     "data": {
      "text/plain": [
       "{'target'}"
      ]
     },
     "execution_count": 43,
     "metadata": {},
     "output_type": "execute_result"
    }
   ],
   "source": [
    "# Validate no difference in columns between train and test\n",
    "set(merged_Train_df4.columns)-set(merged_Test_df4.columns)"
   ]
  },
  {
   "cell_type": "code",
   "execution_count": 44,
   "metadata": {
    "ExecuteTime": {
     "end_time": "2019-02-28T18:38:45.725368Z",
     "start_time": "2019-02-28T18:38:45.433135Z"
    }
   },
   "outputs": [],
   "source": [
    "# Understand what columns have nulls\n",
    "for aCol in merged_Train_df4.columns:\n",
    "    if merged_Train_df4[aCol].isnull().any():\n",
    "        print(aCol)"
   ]
  },
  {
   "cell_type": "markdown",
   "metadata": {},
   "source": [
    "# Feature Normalization"
   ]
  },
  {
   "cell_type": "code",
   "execution_count": 45,
   "metadata": {
    "ExecuteTime": {
     "end_time": "2019-02-28T18:38:46.307203Z",
     "start_time": "2019-02-28T18:38:45.727106Z"
    }
   },
   "outputs": [],
   "source": [
    "# Understand what columns have nulls\n",
    "for aCol in merged_Test_df4.columns:\n",
    "    if merged_Test_df4[aCol].isnull().any():\n",
    "        print(aCol)"
   ]
  },
  {
   "cell_type": "code",
   "execution_count": 46,
   "metadata": {
    "ExecuteTime": {
     "end_time": "2019-02-28T18:38:46.311630Z",
     "start_time": "2019-02-28T18:38:46.309054Z"
    }
   },
   "outputs": [],
   "source": [
    "#Scaling of features"
   ]
  },
  {
   "cell_type": "code",
   "execution_count": 47,
   "metadata": {
    "ExecuteTime": {
     "end_time": "2019-02-28T18:38:46.316443Z",
     "start_time": "2019-02-28T18:38:46.313312Z"
    }
   },
   "outputs": [],
   "source": [
    "# import libraries\n",
    "from sklearn import preprocessing\n",
    "plt.style.use('ggplot')"
   ]
  },
  {
   "cell_type": "code",
   "execution_count": 49,
   "metadata": {
    "ExecuteTime": {
     "end_time": "2019-02-28T18:38:46.463665Z",
     "start_time": "2019-02-28T18:38:46.460679Z"
    }
   },
   "outputs": [],
   "source": [
    "# identify columns to Scale\n",
    "from sklearn.preprocessing import StandardScaler\n",
    "columnsToScale=list(set(merged_Train_df4.columns)-set(['target','status']))"
   ]
  },
  {
   "cell_type": "code",
   "execution_count": 2,
   "metadata": {
    "ExecuteTime": {
     "end_time": "2019-03-14T18:59:38.088288Z",
     "start_time": "2019-03-14T18:59:38.086220Z"
    }
   },
   "outputs": [],
   "source": [
    "# # scale\n",
    "# for aCol in columnsToScale:\n",
    "#     #print (aCol)\n",
    "#     scaler=StandardScaler()\n",
    "#     #merged_Train_df4[aCol]=st.fit_transform(merged_Train_df4.loc[:,[aCol]])\n",
    "#     scaled_fit = scaler.fit(merged_Train_df4.loc[:,[aCol]])\n",
    "#     merged_Train_df4.loc[:,[aCol]] = scaler.transform(merged_Train_df4.loc[:,[aCol]])\n",
    "#     merged_Test_df4.loc[:,[aCol]] = scaler.transform(merged_Test_df4.loc[:,[aCol]])\n",
    "# #     print(aCol)\n",
    "# #     print('\\t',round(df[aCol].mean(),3))\n",
    "# #     print('\\t',round(df[aCol].std(),3))"
   ]
  },
  {
   "cell_type": "code",
   "execution_count": 51,
   "metadata": {
    "ExecuteTime": {
     "end_time": "2019-02-28T18:42:54.338901Z",
     "start_time": "2019-02-28T18:42:54.336783Z"
    }
   },
   "outputs": [],
   "source": [
    "Scaled_Training_df = merged_Train_df4\n",
    "Scaled_Testing_df = merged_Test_df4"
   ]
  },
  {
   "cell_type": "markdown",
   "metadata": {},
   "source": [
    "# Feature Selection and Dim Reduction"
   ]
  },
  {
   "cell_type": "code",
   "execution_count": 52,
   "metadata": {
    "ExecuteTime": {
     "end_time": "2019-02-28T18:42:54.349822Z",
     "start_time": "2019-02-28T18:42:54.340700Z"
    }
   },
   "outputs": [],
   "source": [
    "#Correlation:"
   ]
  },
  {
   "cell_type": "code",
   "execution_count": 53,
   "metadata": {
    "ExecuteTime": {
     "end_time": "2019-02-28T18:42:54.353585Z",
     "start_time": "2019-02-28T18:42:54.351330Z"
    }
   },
   "outputs": [],
   "source": [
    "# ## Correlation Matrix\n",
    "# sns.set(style=\"white\")\n",
    "\n",
    "# # Compute the correlation matrix\n",
    "# corr = scaled_trained_df.corr()"
   ]
  },
  {
   "cell_type": "code",
   "execution_count": 54,
   "metadata": {
    "ExecuteTime": {
     "end_time": "2019-02-28T18:42:54.357123Z",
     "start_time": "2019-02-28T18:42:54.355083Z"
    }
   },
   "outputs": [],
   "source": [
    "# corr.head()"
   ]
  },
  {
   "cell_type": "code",
   "execution_count": 55,
   "metadata": {
    "ExecuteTime": {
     "end_time": "2019-02-28T18:42:54.361036Z",
     "start_time": "2019-02-28T18:42:54.358934Z"
    }
   },
   "outputs": [],
   "source": [
    "# # Generate a mask for the upper triangle\n",
    "# mask = np.zeros_like(corr, dtype=np.bool)\n",
    "# mask[np.triu_indices_from(mask)] = True\n",
    "\n",
    "# # Set up the matplotlib figure\n",
    "# f, ax = plt.subplots(figsize=(18, 15))\n",
    "\n",
    "# # Generate a custom diverging colormap\n",
    "# cmap = sns.diverging_palette(220, 10, as_cmap=True)\n",
    "\n",
    "# # Draw the heatmap with the mask and correct aspect ratio\n",
    "# sns.heatmap(corr, mask=mask, cmap=cmap, vmax=.3, center=0,\n",
    "#             square=True, linewidths=.5, cbar_kws={\"shrink\": .5})"
   ]
  },
  {
   "cell_type": "code",
   "execution_count": 56,
   "metadata": {
    "ExecuteTime": {
     "end_time": "2019-02-28T18:42:54.364891Z",
     "start_time": "2019-02-28T18:42:54.362693Z"
    }
   },
   "outputs": [],
   "source": [
    "#PCA:"
   ]
  },
  {
   "cell_type": "code",
   "execution_count": 57,
   "metadata": {
    "ExecuteTime": {
     "end_time": "2019-02-28T18:42:54.389376Z",
     "start_time": "2019-02-28T18:42:54.366813Z"
    }
   },
   "outputs": [],
   "source": [
    "Scaled_Training_df = Scaled_Training_df.drop(['status'],axis= 1)"
   ]
  },
  {
   "cell_type": "code",
   "execution_count": 58,
   "metadata": {
    "ExecuteTime": {
     "end_time": "2019-02-28T18:42:54.394910Z",
     "start_time": "2019-02-28T18:42:54.391194Z"
    }
   },
   "outputs": [
    {
     "data": {
      "text/plain": [
       "(46610, 817)"
      ]
     },
     "execution_count": 58,
     "metadata": {},
     "output_type": "execute_result"
    }
   ],
   "source": [
    "Scaled_Training_df.shape\n",
    "Scaled_Testing_df.shape"
   ]
  },
  {
   "cell_type": "code",
   "execution_count": 59,
   "metadata": {
    "ExecuteTime": {
     "end_time": "2019-02-28T18:42:54.399539Z",
     "start_time": "2019-02-28T18:42:54.396655Z"
    }
   },
   "outputs": [],
   "source": [
    "columnsToScale1=list(set(list(Scaled_Training_df.columns))-set(['target']))"
   ]
  },
  {
   "cell_type": "code",
   "execution_count": 3,
   "metadata": {
    "ExecuteTime": {
     "end_time": "2019-03-14T18:59:44.123999Z",
     "start_time": "2019-03-14T18:59:44.122195Z"
    }
   },
   "outputs": [],
   "source": [
    "#columnsToScale1"
   ]
  },
  {
   "cell_type": "code",
   "execution_count": 61,
   "metadata": {
    "ExecuteTime": {
     "end_time": "2019-02-28T18:42:54.661806Z",
     "start_time": "2019-02-28T18:42:54.421791Z"
    }
   },
   "outputs": [],
   "source": [
    "for aCol in Scaled_Training_df.columns:\n",
    "    if Scaled_Training_df[aCol].isnull().any():\n",
    "        print(aCol)"
   ]
  },
  {
   "cell_type": "code",
   "execution_count": 62,
   "metadata": {
    "ExecuteTime": {
     "end_time": "2019-02-28T18:42:54.736580Z",
     "start_time": "2019-02-28T18:42:54.670470Z"
    }
   },
   "outputs": [],
   "source": [
    "# create a PCA model\n",
    "from sklearn.decomposition import PCA\n",
    "pca=PCA(n_components=0.95,random_state=42)"
   ]
  },
  {
   "cell_type": "code",
   "execution_count": 63,
   "metadata": {
    "ExecuteTime": {
     "end_time": "2019-02-28T18:42:55.966820Z",
     "start_time": "2019-02-28T18:42:54.738120Z"
    }
   },
   "outputs": [],
   "source": [
    "# Train the PCA on train\n",
    "pcamodel=pca.fit(Scaled_Training_df.loc[:,columnsToScale1])"
   ]
  },
  {
   "cell_type": "code",
   "execution_count": 64,
   "metadata": {
    "ExecuteTime": {
     "end_time": "2019-02-28T18:42:55.973736Z",
     "start_time": "2019-02-28T18:42:55.969200Z"
    }
   },
   "outputs": [
    {
     "data": {
      "text/plain": [
       "(11652, 817)"
      ]
     },
     "execution_count": 64,
     "metadata": {},
     "output_type": "execute_result"
    }
   ],
   "source": [
    "# Columns before PCA\n",
    "Scaled_Training_df.shape"
   ]
  },
  {
   "cell_type": "code",
   "execution_count": 65,
   "metadata": {
    "ExecuteTime": {
     "end_time": "2019-02-28T18:42:56.344310Z",
     "start_time": "2019-02-28T18:42:55.976027Z"
    }
   },
   "outputs": [
    {
     "data": {
      "text/plain": [
       "(11652, 683)"
      ]
     },
     "execution_count": 65,
     "metadata": {},
     "output_type": "execute_result"
    }
   ],
   "source": [
    "# apply PCA on train and test both\n",
    "pcamodel.n_components_\n",
    "Xgiven=pca.transform(Scaled_Training_df.loc[:,columnsToScale1])\n",
    "Xgivendf=pd.DataFrame(Xgiven)\n",
    "Xgivendf.shape\n",
    "scaled_df=pd.concat([Xgivendf,Scaled_Training_df.loc[:,['target']]],axis=1)\n",
    "scaled_df.shape"
   ]
  },
  {
   "cell_type": "code",
   "execution_count": 66,
   "metadata": {
    "ExecuteTime": {
     "end_time": "2019-02-28T18:42:56.348963Z",
     "start_time": "2019-02-28T18:42:56.346248Z"
    }
   },
   "outputs": [],
   "source": [
    "scaled_train_df_PCA = scaled_df"
   ]
  },
  {
   "cell_type": "code",
   "execution_count": 67,
   "metadata": {
    "ExecuteTime": {
     "end_time": "2019-02-28T18:42:56.353838Z",
     "start_time": "2019-02-28T18:42:56.351193Z"
    }
   },
   "outputs": [],
   "source": [
    "scaled_df_PCA1 = scaled_train_df_PCA"
   ]
  },
  {
   "cell_type": "code",
   "execution_count": 68,
   "metadata": {
    "ExecuteTime": {
     "end_time": "2019-02-28T18:42:57.659692Z",
     "start_time": "2019-02-28T18:42:56.356344Z"
    }
   },
   "outputs": [],
   "source": [
    "Xgivent=pca.transform(Scaled_Testing_df.loc[:,columnsToScale1])\n",
    "Xgivendft=pd.DataFrame(Xgivent)\n",
    "Xgivendft.shape\n",
    "scaled__test_df=Xgivendft"
   ]
  },
  {
   "cell_type": "code",
   "execution_count": 69,
   "metadata": {
    "ExecuteTime": {
     "end_time": "2019-02-28T18:42:57.667126Z",
     "start_time": "2019-02-28T18:42:57.661841Z"
    }
   },
   "outputs": [
    {
     "data": {
      "text/plain": [
       "(46610, 682)"
      ]
     },
     "execution_count": 69,
     "metadata": {},
     "output_type": "execute_result"
    }
   ],
   "source": [
    "#Columns after PCA\n",
    "scaled__test_df.shape"
   ]
  },
  {
   "cell_type": "markdown",
   "metadata": {},
   "source": [
    "# Model Training"
   ]
  },
  {
   "cell_type": "code",
   "execution_count": 70,
   "metadata": {
    "ExecuteTime": {
     "end_time": "2019-02-28T18:42:57.671373Z",
     "start_time": "2019-02-28T18:42:57.669173Z"
    }
   },
   "outputs": [],
   "source": [
    "# #Data Splitting\n",
    "# from sklearn.model_selection import train_test_split\n",
    "# X_train, X_test, y_train, y_test = train_test_split(X, y, test_size=0.2, random_state=1)\n",
    "# X_train, X_val, y_train, y_val = train_test_split(X_train, y_train, test_size=0.2, random_state=1)"
   ]
  },
  {
   "cell_type": "code",
   "execution_count": 71,
   "metadata": {
    "ExecuteTime": {
     "end_time": "2019-02-28T18:42:57.694898Z",
     "start_time": "2019-02-28T18:42:57.673784Z"
    }
   },
   "outputs": [],
   "source": [
    "# #Assigning and dividing the dataset in X and Y\n",
    "Xcols = scaled_df_PCA1.drop(columns=['target'],axis=1).columns\n",
    "# #y = modeldf3['target']"
   ]
  },
  {
   "cell_type": "code",
   "execution_count": 72,
   "metadata": {
    "ExecuteTime": {
     "end_time": "2019-02-28T18:42:57.701702Z",
     "start_time": "2019-02-28T18:42:57.696815Z"
    }
   },
   "outputs": [],
   "source": [
    "# Define a function that runs corss validation using a given model on training data\n",
    "#from sklearn import cross_validation\n",
    "from sklearn.model_selection import cross_val_predict\n",
    "import sklearn.metrics as m\n",
    "def cvEval(fitmodel):\n",
    "    predicted=cross_val_predict(fitmodel, scaled_df_PCA1.loc[:,Xcols],scaled_df_PCA1.target, cv=10)\n",
    "    print(\"f1 \",m.f1_score(scaled_df_PCA1.target,predicted,average='macro')*100)\n",
    "    print(\"accuracy \",m.accuracy_score(scaled_df_PCA1.target,predicted)*100)"
   ]
  },
  {
   "cell_type": "code",
   "execution_count": 73,
   "metadata": {
    "ExecuteTime": {
     "end_time": "2019-02-28T18:43:08.173255Z",
     "start_time": "2019-02-28T18:42:57.703881Z"
    }
   },
   "outputs": [
    {
     "name": "stdout",
     "output_type": "stream",
     "text": [
      "f1  68.21945328890425\n",
      "accuracy  97.63989014761414\n"
     ]
    }
   ],
   "source": [
    "# Logistic Regression using Cross Validation\n",
    "from sklearn.linear_model import LogisticRegression\n",
    "fitmodel_LR=LogisticRegression(random_state=42,solver='lbfgs',max_iter=1000)\n",
    "cvEval(fitmodel_LR) #‘lbfgs’ handles multinomial loss"
   ]
  },
  {
   "cell_type": "code",
   "execution_count": 74,
   "metadata": {
    "ExecuteTime": {
     "end_time": "2019-02-28T18:43:08.178365Z",
     "start_time": "2019-02-28T18:43:08.175731Z"
    }
   },
   "outputs": [],
   "source": [
    "# # Logistic Regression using Cross Validation\n",
    "# from sklearn.linear_model import LogisticRegression\n",
    "# fitmodel_LR=LogisticRegression(random_state=42,class_weight={1:\"1\",0:\"1\"})\n",
    "# cvEval(fitmodel_LR)"
   ]
  },
  {
   "cell_type": "code",
   "execution_count": 75,
   "metadata": {
    "ExecuteTime": {
     "end_time": "2019-02-28T18:53:47.408278Z",
     "start_time": "2019-02-28T18:43:08.181036Z"
    }
   },
   "outputs": [
    {
     "name": "stdout",
     "output_type": "stream",
     "text": [
      "f1  69.39877838414884\n",
      "accuracy  97.48541023000344\n"
     ]
    }
   ],
   "source": [
    "# Random Forest using Cross Validation\n",
    "from sklearn.ensemble import RandomForestClassifier\n",
    "fitmodel_RF=RandomForestClassifier(random_state=42,n_estimators=2000,n_jobs=6,max_depth=6,class_weight='balanced_subsample')\n",
    "cvEval(fitmodel_RF)"
   ]
  },
  {
   "cell_type": "code",
   "execution_count": 76,
   "metadata": {
    "ExecuteTime": {
     "end_time": "2019-02-28T18:53:47.417296Z",
     "start_time": "2019-02-28T18:53:47.410352Z"
    }
   },
   "outputs": [],
   "source": [
    "# Define a function which prints accuracy, recall, precision, F1\n",
    "def cvEval1(fitmodel_RF):\n",
    "    predicted = cross_val_predict(fitmodel_RF, scaled_df_PCA1.loc[:,Xcols],scaled_df_PCA1.target, cv=10)\n",
    "    print(\"accuracy \",m.accuracy_score(scaled_df_PCA1.target,predicted)*100)\n",
    "    print(\"pre \",m.precision_score(scaled_df_PCA1.target,predicted,average='macro')*100)\n",
    "    print(\"rec \",m.recall_score(scaled_df_PCA1.target,predicted,average='macro')*100)\n",
    "    print(\"f1 \",m.f1_score(scaled_df_PCA1.target,predicted,average='macro')*100)\n",
    "    print(m.classification_report(scaled_df_PCA1.target,fitmodel_RF.predict(scaled_df_PCA1.loc[:,Xcols])))\n",
    "    print(m.confusion_matrix(scaled_df_PCA1.target,fitmodel_RF.predict(scaled_df_PCA1.loc[:,Xcols])))"
   ]
  },
  {
   "cell_type": "markdown",
   "metadata": {},
   "source": [
    "# Final Model Application"
   ]
  },
  {
   "cell_type": "code",
   "execution_count": 4,
   "metadata": {
    "ExecuteTime": {
     "end_time": "2019-03-14T19:00:25.864173Z",
     "start_time": "2019-03-14T19:00:25.862190Z"
    }
   },
   "outputs": [],
   "source": [
    "# cvEval1(fitmodel_RF)\n",
    "# fitmodel_LR=LogisticRegression(random_state=42,C=0.0001,solver='lbfgs')\n",
    "# cvEval1(fitmodel_LR)"
   ]
  },
  {
   "cell_type": "code",
   "execution_count": null,
   "metadata": {
    "ExecuteTime": {
     "end_time": "2019-02-28T19:04:36.411289Z",
     "start_time": "2019-02-28T18:38:42.809Z"
    }
   },
   "outputs": [],
   "source": [
    "lrfit=fitmodel_LR.fit(scaled_df_PCA1.loc[:,Xcols],scaled_df_PCA1.target)"
   ]
  },
  {
   "cell_type": "code",
   "execution_count": null,
   "metadata": {
    "ExecuteTime": {
     "end_time": "2019-02-28T19:04:36.413057Z",
     "start_time": "2019-02-28T18:38:42.836Z"
    }
   },
   "outputs": [],
   "source": [
    "result=pd.concat([pd.DataFrame(lrfit.predict(scaled__test_df),columns=['inspect']),testing_data.loc[:,'id']],axis=1)"
   ]
  },
  {
   "cell_type": "code",
   "execution_count": null,
   "metadata": {
    "ExecuteTime": {
     "end_time": "2019-02-28T19:04:36.414764Z",
     "start_time": "2019-02-28T18:38:42.865Z"
    }
   },
   "outputs": [],
   "source": [
    "result.head()"
   ]
  },
  {
   "cell_type": "code",
   "execution_count": null,
   "metadata": {
    "ExecuteTime": {
     "end_time": "2019-02-28T19:04:36.416528Z",
     "start_time": "2019-02-28T18:38:42.893Z"
    }
   },
   "outputs": [],
   "source": [
    "result.to_csv('testing_new.csv')"
   ]
  },
  {
   "cell_type": "code",
   "execution_count": null,
   "metadata": {},
   "outputs": [],
   "source": []
  },
  {
   "cell_type": "code",
   "execution_count": null,
   "metadata": {},
   "outputs": [],
   "source": []
  }
 ],
 "metadata": {
  "kernelspec": {
   "display_name": "Python 3",
   "language": "python",
   "name": "python3"
  },
  "language_info": {
   "codemirror_mode": {
    "name": "ipython",
    "version": 3
   },
   "file_extension": ".py",
   "mimetype": "text/x-python",
   "name": "python",
   "nbconvert_exporter": "python",
   "pygments_lexer": "ipython3",
   "version": "3.6.8"
  },
  "latex_envs": {
   "LaTeX_envs_menu_present": true,
   "autoclose": false,
   "autocomplete": true,
   "bibliofile": "biblio.bib",
   "cite_by": "apalike",
   "current_citInitial": 1,
   "eqLabelWithNumbers": true,
   "eqNumInitial": 1,
   "hotkeys": {
    "equation": "Ctrl-E",
    "itemize": "Ctrl-I"
   },
   "labels_anchors": false,
   "latex_user_defs": false,
   "report_style_numbering": false,
   "user_envs_cfg": false
  },
  "nbTranslate": {
   "displayLangs": [
    "*"
   ],
   "hotkey": "alt-t",
   "langInMainMenu": true,
   "sourceLang": "en",
   "targetLang": "fr",
   "useGoogleTranslate": true
  },
  "toc": {
   "base_numbering": 1,
   "nav_menu": {},
   "number_sections": true,
   "sideBar": true,
   "skip_h1_title": false,
   "title_cell": "Table of Contents",
   "title_sidebar": "Contents",
   "toc_cell": false,
   "toc_position": {},
   "toc_section_display": true,
   "toc_window_display": false
  },
  "varInspector": {
   "cols": {
    "lenName": 16,
    "lenType": 16,
    "lenVar": 40
   },
   "kernels_config": {
    "python": {
     "delete_cmd_postfix": "",
     "delete_cmd_prefix": "del ",
     "library": "var_list.py",
     "varRefreshCmd": "print(var_dic_list())"
    },
    "r": {
     "delete_cmd_postfix": ") ",
     "delete_cmd_prefix": "rm(",
     "library": "var_list.r",
     "varRefreshCmd": "cat(var_dic_list()) "
    }
   },
   "types_to_exclude": [
    "module",
    "function",
    "builtin_function_or_method",
    "instance",
    "_Feature"
   ],
   "window_display": false
  }
 },
 "nbformat": 4,
 "nbformat_minor": 2
}
